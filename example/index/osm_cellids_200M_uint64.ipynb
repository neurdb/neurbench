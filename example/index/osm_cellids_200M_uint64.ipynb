{
 "cells": [
  {
   "cell_type": "code",
   "execution_count": 1,
   "metadata": {},
   "outputs": [
    {
     "name": "stdout",
     "output_type": "stream",
     "text": [
      "Current workspace: /users/lingze/neurbench\n"
     ]
    }
   ],
   "source": [
    "# -*- coding: utf-8 -*-\n",
    "# @ Time    : 2024/10/06\n",
    "# @ Author : zlz.bit.pro@gmail.com\n",
    "# @ Desc: Example to process the osm_cellids data\n",
    "\n",
    "# set workspace to the root of the project\n",
    "import os\n",
    "workspace_path = '../..'\n",
    "os.chdir(workspace_path)\n",
    "print(\"Current workspace:\", os.getcwd())"
   ]
  },
  {
   "cell_type": "code",
   "execution_count": 2,
   "metadata": {},
   "outputs": [],
   "source": [
    "import numpy as np\n",
    "from neurbench.index.util import load_key_set, KeyType, save_file\n",
    "from neurbench.index.bench import KeySetBinEncoder, sample_bulkloading_keyset\n",
    "from neurbench.drift import find_q"
   ]
  },
  {
   "cell_type": "code",
   "execution_count": 3,
   "metadata": {},
   "outputs": [],
   "source": [
    "# # load osm_cellids data and downsample it to 200M keys\n",
    "# keyset_file_path = \"/users/lingze/TLI/data/osm_cellids_800M_uint64\"\n",
    "# output_file_path = \"/users/lingze/TLI/data/osm_cellids_200M_uint64\"\n",
    "# d = np.fromfile(keyset_file_path, dtype=np.uint64)[1:]\n",
    "\n",
    "# nd = d[::4]\n",
    "# with open(output_file_path, \"wb\") as f:\n",
    "#     f.write(np.array([nd.size], dtype=np.uint64))\n",
    "#     nd.tofile(f)\n"
   ]
  },
  {
   "cell_type": "code",
   "execution_count": 4,
   "metadata": {},
   "outputs": [],
   "source": [
    "# load osm_cellids_200M_uint64 data\n",
    "keyset_file_path = \"/users/lingze/TLI/data/osm_cellids_200M_uint64\"\n",
    "data = load_key_set(keyset_file_path)\n"
   ]
  },
  {
   "cell_type": "code",
   "execution_count": 5,
   "metadata": {},
   "outputs": [
    {
     "name": "stdout",
     "output_type": "stream",
     "text": [
      "KeyType.UINT64\n"
     ]
    }
   ],
   "source": [
    "# get data type and check unique\n",
    "data_type = KeyType.resolve_type_from_filename(keyset_file_path)\n",
    "print(data_type)\n",
    "# flag = len(np.unique(data)) == len(data)\n",
    "# print(\"Data is unique:\", flag)"
   ]
  },
  {
   "cell_type": "code",
   "execution_count": 6,
   "metadata": {},
   "outputs": [
    {
     "data": {
      "text/plain": [
       "'plot the data Cumulative Distribution Function (CDF)\\n'"
      ]
     },
     "execution_count": 6,
     "metadata": {},
     "output_type": "execute_result"
    }
   ],
   "source": [
    "\"\"\"plot the data Cumulative Distribution Function (CDF)\n",
    "\"\"\"\n",
    "# max_value = np.max(data)\n",
    "# min_value = np.min(data)\n",
    "# print(\"Max value:\", max_value)\n",
    "# print(\"Min value:\", min_value)\n",
    "# KeySetBinEncoder.plot_cdf(\n",
    "#     data,\n",
    "#     min_value=min_value,\n",
    "#     max_value=max_value,\n",
    "# )"
   ]
  },
  {
   "cell_type": "code",
   "execution_count": 7,
   "metadata": {},
   "outputs": [
    {
     "name": "stdout",
     "output_type": "stream",
     "text": [
      "Filtered 3004802 values, [196995198 / 200000000]\n",
      "Remove rate: 0.01502401\n"
     ]
    }
   ],
   "source": [
    "\"\"\"abnormal key filter\n",
    "# before we get the data distribution of key set\n",
    "# we need to filter out the abnormal keys\n",
    "\"\"\"\n",
    "keys, removed_key = KeySetBinEncoder.filter_abnormal_values(data, \"CONFIDENCE\", verbose = True)\n",
    "print(\"Remove rate:\", len(removed_key) / len(data))"
   ]
  },
  {
   "cell_type": "code",
   "execution_count": 8,
   "metadata": {},
   "outputs": [
    {
     "name": "stdout",
     "output_type": "stream",
     "text": [
      "Total number of bins: 243\n"
     ]
    },
    {
     "data": {
      "image/png": "[encoded data removed]",
      "text/plain": [
       "<Figure size 640x480 with 1 Axes>"
      ]
     },
     "metadata": {},
     "output_type": "display_data"
    }
   ],
   "source": [
    "\"\"\"Bin the key set, get the distribution of key set\n",
    "heuristically choose the bin size.\n",
    "\"\"\"\n",
    "bin_width_offset = 55\n",
    "bin_idxs, prob, bin_idx_to_keys = KeySetBinEncoder.bin_keyset_to_distribution(\n",
    "    keys,\n",
    "    bin_width_offset=bin_width_offset,\n",
    "    verbose=True\n",
    ")\n",
    "KeySetBinEncoder.plot_probability_distribution(prob, bin_idxs.tolist())"
   ]
  },
  {
   "cell_type": "code",
   "execution_count": 9,
   "metadata": {},
   "outputs": [],
   "source": [
    "\n",
    "min_bin_num = int(np.min(bin_idxs))\n",
    "max_bin_num = int(np.max(bin_idxs))\n",
    "prob_dict = {}\n",
    "\n",
    "for i, idx in enumerate(bin_idxs):\n",
    "    prob_dict[idx] = prob[i]\n",
    "\n",
    "x = [ i for i in range(min_bin_num, max_bin_num+1)]\n",
    "y = [ prob_dict[i] if i in prob_dict else 0.0 for i in range(min_bin_num, max_bin_num+1) ]"
   ]
  },
  {
   "cell_type": "code",
   "execution_count": 10,
   "metadata": {},
   "outputs": [
    {
     "data": {
      "image/png": "[encoded data removed]",
      "text/plain": [
       "<Figure size 400x250 with 1 Axes>"
      ]
     },
     "metadata": {},
     "output_type": "display_data"
    }
   ],
   "source": [
    "import matplotlib.pyplot as plt\n",
    "labels = x\n",
    "max_value = max(y)\n",
    "rounded_max_value = np.ceil(max_value * 50) / 50\n",
    "# rounded 0.05\n",
    "y_ = [ i * 100 for i in y]\n",
    "plt.rcParams['xtick.labelsize']=15\n",
    "plt.rcParams['ytick.labelsize']=15\n",
    "fig, ax = plt.subplots(figsize=(4, 2.5))\n",
    "ax.bar(labels, y_, color='blue', alpha=0.7)\n",
    "ax.set_xlabel('#Bin', fontsize = 15)\n",
    "ax.set_ylabel('Prob (%)', fontsize = 15)\n",
    "ax.set_ylim(0, 2)  # Set y-axis limits from 0 to 1\n",
    "ax.set_xlim(-10, 310)\n",
    "ax.grid(axis='y')\n",
    "fig.tight_layout()\n",
    "filepath = \"/users/lingze/neurbench/data/keys/osm_cellids_200M_uint64_distribution.pdf\"\n",
    "fig.savefig(filepath, dpi = 800, bbox_inches = 'tight', pad_inches=0)\n",
    "# Show the plot\n",
    "fig.show()"
   ]
  },
  {
   "cell_type": "markdown",
   "metadata": {},
   "source": [
    "---\n",
    "### Drift 0.1"
   ]
  },
  {
   "cell_type": "code",
   "execution_count": 11,
   "metadata": {},
   "outputs": [
    {
     "data": {
      "image/png": "[encoded data removed]",
      "text/plain": [
       "<Figure size 640x480 with 1 Axes>"
      ]
     },
     "metadata": {},
     "output_type": "display_data"
    }
   ],
   "source": [
    "# Drift setting alpha = 0.1, unform drift\n",
    "init_prob = find_q(prob, 0.1, skewed=False)\n",
    "KeySetBinEncoder.plot_probability_distribution(init_prob)"
   ]
  },
  {
   "cell_type": "code",
   "execution_count": 12,
   "metadata": {},
   "outputs": [
    {
     "name": "stdout",
     "output_type": "stream",
     "text": [
      "Exceeding the number of keys in bin 16, sample_n: 7193, bound_n: 3\n",
      "Exceeding the number of keys in bin 17, sample_n: 8409, bound_n: 134\n",
      "Exceeding the number of keys in bin 18, sample_n: 12873, bound_n: 12504\n",
      "Exceeding the number of keys in bin 21, sample_n: 7182, bound_n: 2\n",
      "Exceeding the number of keys in bin 22, sample_n: 37730, bound_n: 23382\n",
      "Exceeding the number of keys in bin 25, sample_n: 7378, bound_n: 21\n",
      "Exceeding the number of keys in bin 36, sample_n: 117838, bound_n: 46636\n",
      "Exceeding the number of keys in bin 39, sample_n: 100467, bound_n: 54748\n",
      "Exceeding the number of keys in bin 40, sample_n: 168378, bound_n: 104536\n",
      "Exceeding the number of keys in bin 43, sample_n: 124220, bound_n: 66971\n",
      "Exceeding the number of keys in bin 44, sample_n: 165527, bound_n: 129021\n",
      "Exceeding the number of keys in bin 45, sample_n: 152958, bound_n: 102277\n",
      "Exceeding the number of keys in bin 49, sample_n: 109795, bound_n: 79626\n",
      "Exceeding the number of keys in bin 50, sample_n: 232423, bound_n: 216314\n",
      "Exceeding the number of keys in bin 53, sample_n: 9945, bound_n: 4988\n",
      "Exceeding the number of keys in bin 55, sample_n: 121184, bound_n: 66701\n",
      "Exceeding the number of keys in bin 56, sample_n: 159828, bound_n: 103274\n",
      "Exceeding the number of keys in bin 59, sample_n: 122110, bound_n: 81269\n",
      "Exceeding the number of keys in bin 62, sample_n: 126063, bound_n: 81751\n",
      "Exceeding the number of keys in bin 63, sample_n: 7193, bound_n: 3\n",
      "Exceeding the number of keys in bin 66, sample_n: 142445, bound_n: 100784\n",
      "Exceeding the number of keys in bin 68, sample_n: 93028, bound_n: 64346\n",
      "Exceeding the number of keys in bin 69, sample_n: 12132, bound_n: 1512\n",
      "Exceeding the number of keys in bin 70, sample_n: 12138, bound_n: 1392\n",
      "Exceeding the number of keys in bin 71, sample_n: 11789, bound_n: 941\n",
      "Exceeding the number of keys in bin 73, sample_n: 11989, bound_n: 1099\n",
      "Exceeding the number of keys in bin 78, sample_n: 8678, bound_n: 168\n",
      "Exceeding the number of keys in bin 85, sample_n: 13202, bound_n: 12199\n",
      "Exceeding the number of keys in bin 86, sample_n: 37138, bound_n: 27074\n",
      "Exceeding the number of keys in bin 87, sample_n: 132123, bound_n: 47676\n",
      "Exceeding the number of keys in bin 88, sample_n: 112014, bound_n: 87380\n",
      "Exceeding the number of keys in bin 89, sample_n: 106662, bound_n: 49171\n",
      "Exceeding the number of keys in bin 90, sample_n: 88401, bound_n: 44587\n",
      "Exceeding the number of keys in bin 93, sample_n: 8165, bound_n: 105\n",
      "Exceeding the number of keys in bin 94, sample_n: 9657, bound_n: 313\n",
      "Exceeding the number of keys in bin 95, sample_n: 82180, bound_n: 74279\n",
      "Exceeding the number of keys in bin 99, sample_n: 233724, bound_n: 205624\n",
      "Exceeding the number of keys in bin 100, sample_n: 121962, bound_n: 81251\n",
      "Exceeding the number of keys in bin 101, sample_n: 110744, bound_n: 95996\n",
      "Exceeding the number of keys in bin 102, sample_n: 180370, bound_n: 145867\n",
      "Exceeding the number of keys in bin 105, sample_n: 111600, bound_n: 55620\n",
      "Exceeding the number of keys in bin 108, sample_n: 150506, bound_n: 126530\n",
      "Exceeding the number of keys in bin 111, sample_n: 38545, bound_n: 27223\n",
      "Exceeding the number of keys in bin 112, sample_n: 43471, bound_n: 35141\n",
      "Exceeding the number of keys in bin 117, sample_n: 145120, bound_n: 101160\n",
      "Exceeding the number of keys in bin 118, sample_n: 123159, bound_n: 56555\n",
      "Exceeding the number of keys in bin 120, sample_n: 11685, bound_n: 880\n",
      "Exceeding the number of keys in bin 121, sample_n: 7172, bound_n: 1\n",
      "Exceeding the number of keys in bin 122, sample_n: 32525, bound_n: 24296\n",
      "Exceeding the number of keys in bin 123, sample_n: 98935, bound_n: 54631\n",
      "Exceeding the number of keys in bin 125, sample_n: 184367, bound_n: 132267\n",
      "Exceeding the number of keys in bin 137, sample_n: 174056, bound_n: 105386\n",
      "Exceeding the number of keys in bin 138, sample_n: 31370, bound_n: 18855\n",
      "Exceeding the number of keys in bin 146, sample_n: 10143, bound_n: 2610\n",
      "Exceeding the number of keys in bin 147, sample_n: 7815, bound_n: 66\n",
      "Exceeding the number of keys in bin 148, sample_n: 7203, bound_n: 4\n",
      "Exceeding the number of keys in bin 158, sample_n: 34688, bound_n: 21736\n",
      "Exceeding the number of keys in bin 159, sample_n: 97241, bound_n: 77705\n",
      "Exceeding the number of keys in bin 160, sample_n: 10138, bound_n: 2608\n",
      "Exceeding the number of keys in bin 161, sample_n: 43932, bound_n: 42174\n",
      "Exceeding the number of keys in bin 170, sample_n: 7172, bound_n: 1\n",
      "Exceeding the number of keys in bin 172, sample_n: 11308, bound_n: 713\n",
      "Exceeding the number of keys in bin 174, sample_n: 75446, bound_n: 37549\n",
      "Exceeding the number of keys in bin 175, sample_n: 10481, bound_n: 8014\n",
      "Exceeding the number of keys in bin 176, sample_n: 12310, bound_n: 3859\n",
      "Exceeding the number of keys in bin 177, sample_n: 41017, bound_n: 27498\n",
      "Exceeding the number of keys in bin 178, sample_n: 94795, bound_n: 54319\n",
      "Exceeding the number of keys in bin 179, sample_n: 43429, bound_n: 35138\n",
      "Exceeding the number of keys in bin 180, sample_n: 120605, bound_n: 81087\n",
      "Exceeding the number of keys in bin 181, sample_n: 17302, bound_n: 16657\n",
      "Exceeding the number of keys in bin 184, sample_n: 94354, bound_n: 77271\n",
      "Exceeding the number of keys in bin 193, sample_n: 9896, bound_n: 6418\n",
      "Exceeding the number of keys in bin 194, sample_n: 7861, bound_n: 71\n",
      "Exceeding the number of keys in bin 197, sample_n: 7172, bound_n: 1\n",
      "Exceeding the number of keys in bin 198, sample_n: 7498, bound_n: 33\n",
      "Exceeding the number of keys in bin 200, sample_n: 12129, bound_n: 1341\n",
      "Exceeding the number of keys in bin 201, sample_n: 9567, bound_n: 298\n",
      "Exceeding the number of keys in bin 202, sample_n: 9163, bound_n: 5599\n",
      "Exceeding the number of keys in bin 203, sample_n: 12401, bound_n: 3809\n",
      "Exceeding the number of keys in bin 204, sample_n: 10341, bound_n: 2154\n",
      "Exceeding the number of keys in bin 205, sample_n: 12968, bound_n: 3474\n",
      "Exceeding the number of keys in bin 206, sample_n: 23084, bound_n: 9157\n",
      "Exceeding the number of keys in bin 207, sample_n: 8530, bound_n: 149\n",
      "Exceeding the number of keys in bin 208, sample_n: 38024, bound_n: 34589\n",
      "Exceeding the number of keys in bin 209, sample_n: 32604, bound_n: 20351\n",
      "Exceeding the number of keys in bin 210, sample_n: 100918, bound_n: 40120\n",
      "Exceeding the number of keys in bin 211, sample_n: 105482, bound_n: 40586\n",
      "Exceeding the number of keys in bin 212, sample_n: 66248, bound_n: 32593\n",
      "Exceeding the number of keys in bin 217, sample_n: 37794, bound_n: 27143\n",
      "Exceeding the number of keys in bin 219, sample_n: 9597, bound_n: 303\n",
      "Exceeding the number of keys in bin 220, sample_n: 16072, bound_n: 14644\n",
      "Exceeding the number of keys in bin 221, sample_n: 65260, bound_n: 36642\n",
      "Exceeding the number of keys in bin 222, sample_n: 11496, bound_n: 8190\n",
      "Exceeding the number of keys in bin 223, sample_n: 13551, bound_n: 3058\n",
      "Exceeding the number of keys in bin 224, sample_n: 11597, bound_n: 835\n",
      "Exceeding the number of keys in bin 225, sample_n: 8815, bound_n: 186\n",
      "Exceeding the number of keys in bin 226, sample_n: 9924, bound_n: 2490\n",
      "Exceeding the number of keys in bin 227, sample_n: 32490, bound_n: 26556\n",
      "Exceeding the number of keys in bin 228, sample_n: 12132, bound_n: 1353\n",
      "Exceeding the number of keys in bin 229, sample_n: 13773, bound_n: 13087\n",
      "Exceeding the number of keys in bin 231, sample_n: 7498, bound_n: 33\n",
      "Exceeding the number of keys in bin 232, sample_n: 10549, bound_n: 491\n",
      "Exceeding the number of keys in bin 235, sample_n: 11015, bound_n: 1954\n",
      "Exceeding the number of keys in bin 236, sample_n: 9698, bound_n: 6193\n",
      "Exceeding the number of keys in bin 237, sample_n: 22646, bound_n: 9236\n",
      "Exceeding the number of keys in bin 238, sample_n: 7777, bound_n: 62\n",
      "Exceeding the number of keys in bin 239, sample_n: 7759, bound_n: 60\n",
      "Exceeding the number of keys in bin 242, sample_n: 59218, bound_n: 30792\n",
      "Exceeding the number of keys in bin 243, sample_n: 11329, bound_n: 721\n",
      "Exceeding the number of keys in bin 244, sample_n: 12135, bound_n: 1499\n",
      "Exceeding the number of keys in bin 245, sample_n: 8060, bound_n: 93\n",
      "Exceeding the number of keys in bin 246, sample_n: 8042, bound_n: 91\n",
      "Exceeding the number of keys in bin 247, sample_n: 8068, bound_n: 94\n",
      "Exceeding the number of keys in bin 248, sample_n: 57551, bound_n: 30391\n",
      "Exceeding the number of keys in bin 249, sample_n: 11651, bound_n: 862\n",
      "Exceeding the number of keys in bin 250, sample_n: 7172, bound_n: 1\n",
      "Exceeding the number of keys in bin 253, sample_n: 10887, bound_n: 4566\n",
      "Exceeding the number of keys in bin 256, sample_n: 7172, bound_n: 1\n",
      "Exceeding the number of keys in bin 258, sample_n: 12748, bound_n: 8682\n",
      "Exceeding the number of keys in bin 263, sample_n: 8946, bound_n: 204\n",
      "Exceeding the number of keys in bin 265, sample_n: 7172, bound_n: 1\n",
      "Exceeding the number of keys in bin 266, sample_n: 9549, bound_n: 295\n",
      "Exceeding the number of keys in bin 274, sample_n: 155434, bound_n: 127337\n",
      "Exceeding the number of keys in bin 276, sample_n: 9261, bound_n: 5706\n",
      "Exceeding the number of keys in bin 281, sample_n: 7182, bound_n: 2\n",
      "Exceeding the number of keys in bin 283, sample_n: 73544, bound_n: 62836\n",
      "Exceeding the number of keys in bin 288, sample_n: 126371, bound_n: 84652\n",
      "Exceeding the number of keys in bin 289, sample_n: 7398, bound_n: 23\n",
      "Exceeding the number of keys in bin 292, sample_n: 148704, bound_n: 69216\n",
      "Exceeding bins: 129 / 243\n",
      "99882129\n",
      "Bulkloading key set size: 0.5070282423838575\n"
     ]
    }
   ],
   "source": [
    "bulkloading_n = int(0.52 * len(keys))\n",
    "bulkloading_keys = sample_bulkloading_keyset(\n",
    "    bin_idxs,\n",
    "    init_prob,\n",
    "    bin_idx_to_keys,\n",
    "    bulkloading_n,\n",
    "    verbose=True\n",
    ")\n",
    "print(len(bulkloading_keys)) \n",
    "print(\"Bulkloading key set size:\", len(bulkloading_keys) / len(keys))"
   ]
  },
  {
   "cell_type": "code",
   "execution_count": 13,
   "metadata": {},
   "outputs": [
    {
     "name": "stdout",
     "output_type": "stream",
     "text": [
      "Total number of bins: 243\n"
     ]
    }
   ],
   "source": [
    "\"\"\"Bin the key set, get the distribution of key set\n",
    "heuristically choose the bin size.\n",
    "\"\"\"\n",
    "bin_width_offset = 55\n",
    "bin_idxs, ini_prob, _ = KeySetBinEncoder.bin_keyset_to_distribution(\n",
    "    np.array(bulkloading_keys),\n",
    "    bin_width_offset=bin_width_offset,\n",
    "    verbose=True\n",
    ")\n",
    "# KeySetBinEncoder.plot_probability_distribution(ini_prob, bin_idxs.tolist())"
   ]
  },
  {
   "cell_type": "code",
   "execution_count": 14,
   "metadata": {},
   "outputs": [],
   "source": [
    "# inserted_keys = np.setdiff1d(data, bulkloading_keys)\n",
    "# print(\"Insert number of records:\", len(inserted_keys))\n",
    "# print(\"Insert ratio:\", len(inserted_keys) / len(data))"
   ]
  },
  {
   "cell_type": "code",
   "execution_count": 15,
   "metadata": {},
   "outputs": [],
   "source": [
    "\n",
    "# draw the picture of the bulkloading key \n",
    "prob_dict = {}\n",
    "for i, idx in enumerate(bin_idxs):\n",
    "    prob_dict[idx] = ini_prob[i]\n",
    "y = [ prob_dict[i] if i in prob_dict else 0.0 for i in range(min_bin_num, max_bin_num+1) ]"
   ]
  },
  {
   "cell_type": "code",
   "execution_count": 16,
   "metadata": {},
   "outputs": [
    {
     "data": {
      "image/png": "[encoded data removed]",
      "text/plain": [
       "<Figure size 400x250 with 1 Axes>"
      ]
     },
     "metadata": {},
     "output_type": "display_data"
    }
   ],
   "source": [
    "# draw the estimated distribution and store the figure\n",
    "import matplotlib.pyplot as plt\n",
    "labels = x\n",
    "max_value = max(y)\n",
    "rounded_max_value = np.ceil(max_value * 50) / 50\n",
    "# rounded 0.05\n",
    "y_ = [ i * 100 for i in y]\n",
    "plt.rcParams['xtick.labelsize']=15\n",
    "plt.rcParams['ytick.labelsize']=15\n",
    "fig, ax = plt.subplots(figsize=(4, 2.5))\n",
    "ax.bar(labels, y_, color='blue', alpha=0.7)\n",
    "ax.set_xlabel('#Bin', fontsize = 15)\n",
    "ax.set_ylabel('Prob (%)', fontsize = 15)\n",
    "ax.set_ylim(0, 2)  # Set y-axis limits from 0 to 1\n",
    "ax.set_xlim(-10, 310)\n",
    "ax.grid(axis='y')\n",
    "fig.tight_layout()\n",
    "filepath = \"/users/lingze/neurbench/data/keys/osm_cellids_200M_uint64_distribution_drift_01.pdf\"\n",
    "fig.savefig(filepath, dpi = 800, bbox_inches = 'tight', pad_inches=0)\n",
    "# Show the plot\n",
    "fig.show()"
   ]
  },
  {
   "cell_type": "markdown",
   "metadata": {},
   "source": [
    "---\n",
    "### Drift 0.3"
   ]
  },
  {
   "cell_type": "code",
   "execution_count": 17,
   "metadata": {},
   "outputs": [
    {
     "data": {
      "image/png": "[encoded data removed]",
      "text/plain": [
       "<Figure size 640x480 with 1 Axes>"
      ]
     },
     "metadata": {},
     "output_type": "display_data"
    }
   ],
   "source": [
    "# Drift setting alpha = 0.1, unform drift\n",
    "init_prob = find_q(prob, 0.3, skewed=False)\n",
    "KeySetBinEncoder.plot_probability_distribution(init_prob)"
   ]
  },
  {
   "cell_type": "code",
   "execution_count": 18,
   "metadata": {},
   "outputs": [
    {
     "name": "stdout",
     "output_type": "stream",
     "text": [
      "Exceeding the number of keys in bin 16, sample_n: 217731, bound_n: 3\n",
      "Exceeding the number of keys in bin 17, sample_n: 217546, bound_n: 134\n",
      "Exceeding the number of keys in bin 18, sample_n: 195550, bound_n: 12504\n",
      "Exceeding the number of keys in bin 21, sample_n: 217733, bound_n: 2\n",
      "Exceeding the number of keys in bin 22, sample_n: 168173, bound_n: 23382\n",
      "Exceeding the number of keys in bin 25, sample_n: 217706, bound_n: 21\n",
      "Exceeding the number of keys in bin 34, sample_n: 101179, bound_n: 90815\n",
      "Exceeding the number of keys in bin 36, sample_n: 103954, bound_n: 46636\n",
      "Exceeding the number of keys in bin 39, sample_n: 103235, bound_n: 54748\n",
      "Exceeding the number of keys in bin 43, sample_n: 102339, bound_n: 66971\n",
      "Exceeding the number of keys in bin 49, sample_n: 101633, bound_n: 79626\n",
      "Exceeding the number of keys in bin 52, sample_n: 101310, bound_n: 87181\n",
      "Exceeding the number of keys in bin 53, sample_n: 209993, bound_n: 4988\n",
      "Exceeding the number of keys in bin 55, sample_n: 102357, bound_n: 66701\n",
      "Exceeding the number of keys in bin 59, sample_n: 101556, bound_n: 81269\n",
      "Exceeding the number of keys in bin 60, sample_n: 101173, bound_n: 91006\n",
      "Exceeding the number of keys in bin 62, sample_n: 101535, bound_n: 81751\n",
      "Exceeding the number of keys in bin 63, sample_n: 217731, bound_n: 3\n",
      "Exceeding the number of keys in bin 66, sample_n: 100900, bound_n: 100784\n",
      "Exceeding the number of keys in bin 68, sample_n: 102513, bound_n: 64346\n",
      "Exceeding the number of keys in bin 69, sample_n: 215538, bound_n: 1512\n",
      "Exceeding the number of keys in bin 70, sample_n: 215717, bound_n: 1392\n",
      "Exceeding the number of keys in bin 71, sample_n: 216383, bound_n: 941\n",
      "Exceeding the number of keys in bin 73, sample_n: 216151, bound_n: 1099\n",
      "Exceeding the number of keys in bin 78, sample_n: 217498, bound_n: 168\n",
      "Exceeding the number of keys in bin 85, sample_n: 196204, bound_n: 12199\n",
      "Exceeding the number of keys in bin 86, sample_n: 156952, bound_n: 27074\n",
      "Exceeding the number of keys in bin 87, sample_n: 103856, bound_n: 47676\n",
      "Exceeding the number of keys in bin 88, sample_n: 101302, bound_n: 87380\n",
      "Exceeding the number of keys in bin 89, sample_n: 103718, bound_n: 49171\n",
      "Exceeding the number of keys in bin 90, sample_n: 104152, bound_n: 44587\n",
      "Exceeding the number of keys in bin 93, sample_n: 217587, bound_n: 105\n",
      "Exceeding the number of keys in bin 94, sample_n: 217291, bound_n: 313\n",
      "Exceeding the number of keys in bin 95, sample_n: 101905, bound_n: 74279\n",
      "Exceeding the number of keys in bin 100, sample_n: 101557, bound_n: 81251\n",
      "Exceeding the number of keys in bin 101, sample_n: 101020, bound_n: 95996\n",
      "Exceeding the number of keys in bin 105, sample_n: 103163, bound_n: 55620\n",
      "Exceeding the number of keys in bin 111, sample_n: 156477, bound_n: 27223\n",
      "Exceeding the number of keys in bin 112, sample_n: 128515, bound_n: 35141\n",
      "Exceeding the number of keys in bin 118, sample_n: 103088, bound_n: 56555\n",
      "Exceeding the number of keys in bin 120, sample_n: 216472, bound_n: 880\n",
      "Exceeding the number of keys in bin 121, sample_n: 217734, bound_n: 1\n",
      "Exceeding the number of keys in bin 122, sample_n: 165492, bound_n: 24296\n",
      "Exceeding the number of keys in bin 123, sample_n: 103244, bound_n: 54631\n",
      "Exceeding the number of keys in bin 131, sample_n: 102741, bound_n: 61110\n",
      "Exceeding the number of keys in bin 138, sample_n: 180554, bound_n: 18855\n",
      "Exceeding the number of keys in bin 146, sample_n: 213861, bound_n: 2610\n",
      "Exceeding the number of keys in bin 147, sample_n: 217642, bound_n: 66\n",
      "Exceeding the number of keys in bin 148, sample_n: 217730, bound_n: 4\n",
      "Exceeding the number of keys in bin 155, sample_n: 103665, bound_n: 49759\n",
      "Exceeding the number of keys in bin 156, sample_n: 103603, bound_n: 50450\n",
      "Exceeding the number of keys in bin 157, sample_n: 102174, bound_n: 69607\n",
      "Exceeding the number of keys in bin 158, sample_n: 172845, bound_n: 21736\n",
      "Exceeding the number of keys in bin 159, sample_n: 101726, bound_n: 77705\n",
      "Exceeding the number of keys in bin 160, sample_n: 213864, bound_n: 2608\n",
      "Exceeding the number of keys in bin 161, sample_n: 104394, bound_n: 42174\n",
      "Exceeding the number of keys in bin 170, sample_n: 217734, bound_n: 1\n",
      "Exceeding the number of keys in bin 172, sample_n: 216715, bound_n: 713\n",
      "Exceeding the number of keys in bin 174, sample_n: 118853, bound_n: 37549\n",
      "Exceeding the number of keys in bin 175, sample_n: 204591, bound_n: 8014\n",
      "Exceeding the number of keys in bin 176, sample_n: 211870, bound_n: 3859\n",
      "Exceeding the number of keys in bin 177, sample_n: 155595, bound_n: 27498\n",
      "Exceeding the number of keys in bin 178, sample_n: 103270, bound_n: 54319\n",
      "Exceeding the number of keys in bin 179, sample_n: 128527, bound_n: 35138\n",
      "Exceeding the number of keys in bin 180, sample_n: 101565, bound_n: 81087\n",
      "Exceeding the number of keys in bin 181, sample_n: 186048, bound_n: 16657\n",
      "Exceeding the number of keys in bin 182, sample_n: 102761, bound_n: 60837\n",
      "Exceeding the number of keys in bin 184, sample_n: 101748, bound_n: 77271\n",
      "Exceeding the number of keys in bin 193, sample_n: 207508, bound_n: 6418\n",
      "Exceeding the number of keys in bin 194, sample_n: 217635, bound_n: 71\n",
      "Exceeding the number of keys in bin 197, sample_n: 217734, bound_n: 1\n",
      "Exceeding the number of keys in bin 198, sample_n: 217689, bound_n: 33\n",
      "Exceeding the number of keys in bin 200, sample_n: 215793, bound_n: 1341\n",
      "Exceeding the number of keys in bin 201, sample_n: 217313, bound_n: 298\n",
      "Exceeding the number of keys in bin 202, sample_n: 208946, bound_n: 5599\n",
      "Exceeding the number of keys in bin 203, sample_n: 211952, bound_n: 3809\n",
      "Exceeding the number of keys in bin 204, sample_n: 214566, bound_n: 2154\n",
      "Exceeding the number of keys in bin 205, sample_n: 212493, bound_n: 3474\n",
      "Exceeding the number of keys in bin 206, sample_n: 202407, bound_n: 9157\n",
      "Exceeding the number of keys in bin 207, sample_n: 217525, bound_n: 149\n",
      "Exceeding the number of keys in bin 208, sample_n: 130648, bound_n: 34589\n",
      "Exceeding the number of keys in bin 209, sample_n: 176624, bound_n: 20351\n",
      "Exceeding the number of keys in bin 210, sample_n: 107852, bound_n: 40120\n",
      "Exceeding the number of keys in bin 211, sample_n: 105776, bound_n: 40586\n",
      "Exceeding the number of keys in bin 212, sample_n: 138121, bound_n: 32593\n",
      "Exceeding the number of keys in bin 216, sample_n: 164365, bound_n: 24674\n",
      "Exceeding the number of keys in bin 217, sample_n: 156732, bound_n: 27143\n",
      "Exceeding the number of keys in bin 219, sample_n: 217306, bound_n: 303\n",
      "Exceeding the number of keys in bin 220, sample_n: 190794, bound_n: 14644\n",
      "Exceeding the number of keys in bin 221, sample_n: 122562, bound_n: 36642\n",
      "Exceeding the number of keys in bin 222, sample_n: 204260, bound_n: 8190\n",
      "Exceeding the number of keys in bin 223, sample_n: 213157, bound_n: 3058\n",
      "Exceeding the number of keys in bin 224, sample_n: 216538, bound_n: 835\n",
      "Exceeding the number of keys in bin 225, sample_n: 217472, bound_n: 186\n",
      "Exceeding the number of keys in bin 226, sample_n: 214048, bound_n: 2490\n",
      "Exceeding the number of keys in bin 227, sample_n: 158590, bound_n: 26556\n",
      "Exceeding the number of keys in bin 228, sample_n: 215775, bound_n: 1353\n",
      "Exceeding the number of keys in bin 229, sample_n: 194284, bound_n: 13087\n",
      "Exceeding the number of keys in bin 231, sample_n: 217689, bound_n: 33\n",
      "Exceeding the number of keys in bin 232, sample_n: 217036, bound_n: 491\n",
      "Exceeding the number of keys in bin 235, sample_n: 214871, bound_n: 1954\n",
      "Exceeding the number of keys in bin 236, sample_n: 207907, bound_n: 6193\n",
      "Exceeding the number of keys in bin 237, sample_n: 202253, bound_n: 9236\n",
      "Exceeding the number of keys in bin 238, sample_n: 217648, bound_n: 62\n",
      "Exceeding the number of keys in bin 239, sample_n: 217651, bound_n: 60\n",
      "Exceeding the number of keys in bin 242, sample_n: 144552, bound_n: 30792\n",
      "Exceeding the number of keys in bin 243, sample_n: 216704, bound_n: 721\n",
      "Exceeding the number of keys in bin 244, sample_n: 215557, bound_n: 1499\n",
      "Exceeding the number of keys in bin 245, sample_n: 217604, bound_n: 93\n",
      "Exceeding the number of keys in bin 246, sample_n: 217607, bound_n: 91\n",
      "Exceeding the number of keys in bin 247, sample_n: 217603, bound_n: 94\n",
      "Exceeding the number of keys in bin 248, sample_n: 145945, bound_n: 30391\n",
      "Exceeding the number of keys in bin 249, sample_n: 216498, bound_n: 862\n",
      "Exceeding the number of keys in bin 250, sample_n: 217734, bound_n: 1\n",
      "Exceeding the number of keys in bin 253, sample_n: 210703, bound_n: 4566\n",
      "Exceeding the number of keys in bin 256, sample_n: 217734, bound_n: 1\n",
      "Exceeding the number of keys in bin 258, sample_n: 203324, bound_n: 8682\n",
      "Exceeding the number of keys in bin 263, sample_n: 217447, bound_n: 204\n",
      "Exceeding the number of keys in bin 265, sample_n: 217734, bound_n: 1\n",
      "Exceeding the number of keys in bin 266, sample_n: 217317, bound_n: 295\n",
      "Exceeding the number of keys in bin 276, sample_n: 208760, bound_n: 5706\n",
      "Exceeding the number of keys in bin 281, sample_n: 217733, bound_n: 2\n",
      "Exceeding the number of keys in bin 282, sample_n: 101988, bound_n: 72783\n",
      "Exceeding the number of keys in bin 283, sample_n: 102618, bound_n: 62836\n",
      "Exceeding the number of keys in bin 288, sample_n: 101410, bound_n: 84652\n",
      "Exceeding the number of keys in bin 289, sample_n: 217703, bound_n: 23\n",
      "Exceeding the number of keys in bin 292, sample_n: 102198, bound_n: 69216\n",
      "Exceeding the number of keys in bin 293, sample_n: 102007, bound_n: 72447\n",
      "Exceeding bins: 128 / 243\n",
      "83992315\n",
      "Bulkloading key set size: 0.4263673219080193\n"
     ]
    }
   ],
   "source": [
    "bulkloading_n = int(0.52 * len(keys))\n",
    "bulkloading_keys = sample_bulkloading_keyset(\n",
    "    bin_idxs,\n",
    "    init_prob,\n",
    "    bin_idx_to_keys,\n",
    "    bulkloading_n,\n",
    "    verbose=True\n",
    ")\n",
    "print(len(bulkloading_keys)) \n",
    "print(\"Bulkloading key set size:\", len(bulkloading_keys) / len(keys))"
   ]
  },
  {
   "cell_type": "code",
   "execution_count": 19,
   "metadata": {},
   "outputs": [
    {
     "name": "stdout",
     "output_type": "stream",
     "text": [
      "Total number of bins: 243\n"
     ]
    }
   ],
   "source": [
    "\"\"\"Bin the key set, get the distribution of key set\n",
    "heuristically choose the bin size.\n",
    "\"\"\"\n",
    "bin_width_offset = 55\n",
    "bin_idxs, ini_prob, _ = KeySetBinEncoder.bin_keyset_to_distribution(\n",
    "    np.array(bulkloading_keys),\n",
    "    bin_width_offset=bin_width_offset,\n",
    "    verbose=True\n",
    ")\n",
    "# KeySetBinEncoder.plot_probability_distribution(ini_prob, bin_idxs.tolist())"
   ]
  },
  {
   "cell_type": "code",
   "execution_count": 20,
   "metadata": {},
   "outputs": [],
   "source": [
    "\n",
    "# draw the picture of the bulkloading key \n",
    "prob_dict = {}\n",
    "for i, idx in enumerate(bin_idxs):\n",
    "    prob_dict[idx] = ini_prob[i]\n",
    "y = [ prob_dict[i] if i in prob_dict else 0.0 for i in range(min_bin_num, max_bin_num+1) ]"
   ]
  },
  {
   "cell_type": "code",
   "execution_count": 21,
   "metadata": {},
   "outputs": [
    {
     "data": {
      "image/png": "[encoded data removed]",
      "text/plain": [
       "<Figure size 400x250 with 1 Axes>"
      ]
     },
     "metadata": {},
     "output_type": "display_data"
    }
   ],
   "source": [
    "# draw the estimated distribution and store the figure\n",
    "import matplotlib.pyplot as plt\n",
    "labels = x\n",
    "max_value = max(y)\n",
    "rounded_max_value = np.ceil(max_value * 50) / 50\n",
    "# rounded 0.05\n",
    "y_ = [ i * 100 for i in y]\n",
    "plt.rcParams['xtick.labelsize']=15\n",
    "plt.rcParams['ytick.labelsize']=15\n",
    "fig, ax = plt.subplots(figsize=(4, 2.5))\n",
    "ax.bar(labels, y_, color='blue', alpha=0.7)\n",
    "ax.set_xlabel('#Bin', fontsize = 15)\n",
    "ax.set_ylabel('Prob (%)', fontsize = 15)\n",
    "ax.set_ylim(0, 2)  # Set y-axis limits from 0 to 1\n",
    "ax.set_xlim(-10, 310)\n",
    "ax.grid(axis='y')\n",
    "fig.tight_layout()\n",
    "filepath = \"/users/lingze/neurbench/data/keys/osm_cellids_200M_uint64_distribution_drift_03.pdf\"\n",
    "fig.savefig(filepath, dpi = 800, bbox_inches = 'tight', pad_inches=0)\n",
    "# Show the plot\n",
    "fig.show()"
   ]
  },
  {
   "cell_type": "markdown",
   "metadata": {},
   "source": [
    "---\n",
    "### Drift 0.5"
   ]
  },
  {
   "cell_type": "code",
   "execution_count": 22,
   "metadata": {},
   "outputs": [
    {
     "data": {
      "image/png": "[encoded data removed]",
      "text/plain": [
       "<Figure size 640x480 with 1 Axes>"
      ]
     },
     "metadata": {},
     "output_type": "display_data"
    }
   ],
   "source": [
    "# Drift setting alpha = 0.1, unform drift\n",
    "init_prob = find_q(prob, 0.5, skewed=False)\n",
    "KeySetBinEncoder.plot_probability_distribution(init_prob)"
   ]
  },
  {
   "cell_type": "code",
   "execution_count": 23,
   "metadata": {},
   "outputs": [
    {
     "name": "stdout",
     "output_type": "stream",
     "text": [
      "Exceeding the number of keys in bin 16, sample_n: 476071, bound_n: 3\n",
      "Exceeding the number of keys in bin 17, sample_n: 476070, bound_n: 134\n",
      "Exceeding the number of keys in bin 18, sample_n: 475981, bound_n: 12504\n",
      "Exceeding the number of keys in bin 21, sample_n: 476071, bound_n: 2\n",
      "Exceeding the number of keys in bin 22, sample_n: 475918, bound_n: 23382\n",
      "Exceeding the number of keys in bin 24, sample_n: 244572, bound_n: 212516\n",
      "Exceeding the number of keys in bin 25, sample_n: 476071, bound_n: 21\n",
      "Exceeding the number of keys in bin 34, sample_n: 469032, bound_n: 90815\n",
      "Exceeding the number of keys in bin 36, sample_n: 475376, bound_n: 46636\n",
      "Exceeding the number of keys in bin 39, sample_n: 474901, bound_n: 54748\n",
      "Exceeding the number of keys in bin 40, sample_n: 464239, bound_n: 104536\n",
      "Exceeding the number of keys in bin 43, sample_n: 473724, bound_n: 66971\n",
      "Exceeding the number of keys in bin 44, sample_n: 449894, bound_n: 129021\n",
      "Exceeding the number of keys in bin 45, sample_n: 465161, bound_n: 102277\n",
      "Exceeding the number of keys in bin 47, sample_n: 460768, bound_n: 111993\n",
      "Exceeding the number of keys in bin 48, sample_n: 457707, bound_n: 117552\n",
      "Exceeding the number of keys in bin 49, sample_n: 471710, bound_n: 79626\n",
      "Exceeding the number of keys in bin 50, sample_n: 218713, bound_n: 216314\n",
      "Exceeding the number of keys in bin 52, sample_n: 470008, bound_n: 87181\n",
      "Exceeding the number of keys in bin 53, sample_n: 476026, bound_n: 4988\n",
      "Exceeding the number of keys in bin 55, sample_n: 473757, bound_n: 66701\n",
      "Exceeding the number of keys in bin 56, sample_n: 464761, bound_n: 103274\n",
      "Exceeding the number of keys in bin 59, sample_n: 471375, bound_n: 81269\n",
      "Exceeding the number of keys in bin 60, sample_n: 468977, bound_n: 91006\n",
      "Exceeding the number of keys in bin 62, sample_n: 471273, bound_n: 81751\n",
      "Exceeding the number of keys in bin 63, sample_n: 476071, bound_n: 3\n",
      "Exceeding the number of keys in bin 66, sample_n: 465740, bound_n: 100784\n",
      "Exceeding the number of keys in bin 68, sample_n: 474032, bound_n: 64346\n",
      "Exceeding the number of keys in bin 69, sample_n: 476056, bound_n: 1512\n",
      "Exceeding the number of keys in bin 70, sample_n: 476057, bound_n: 1392\n",
      "Exceeding the number of keys in bin 71, sample_n: 476061, bound_n: 941\n",
      "Exceeding the number of keys in bin 73, sample_n: 476060, bound_n: 1099\n",
      "Exceeding the number of keys in bin 78, sample_n: 476070, bound_n: 168\n",
      "Exceeding the number of keys in bin 84, sample_n: 411150, bound_n: 162162\n",
      "Exceeding the number of keys in bin 85, sample_n: 475983, bound_n: 12199\n",
      "Exceeding the number of keys in bin 86, sample_n: 475883, bound_n: 27074\n",
      "Exceeding the number of keys in bin 87, sample_n: 475326, bound_n: 47676\n",
      "Exceeding the number of keys in bin 88, sample_n: 469958, bound_n: 87380\n",
      "Exceeding the number of keys in bin 89, sample_n: 475249, bound_n: 49171\n",
      "Exceeding the number of keys in bin 90, sample_n: 475466, bound_n: 44587\n",
      "Exceeding the number of keys in bin 93, sample_n: 476070, bound_n: 105\n",
      "Exceeding the number of keys in bin 94, sample_n: 476068, bound_n: 313\n",
      "Exceeding the number of keys in bin 95, sample_n: 472676, bound_n: 74279\n",
      "Exceeding the number of keys in bin 96, sample_n: 382927, bound_n: 176507\n",
      "Exceeding the number of keys in bin 99, sample_n: 283308, bound_n: 205624\n",
      "Exceeding the number of keys in bin 100, sample_n: 471379, bound_n: 81251\n",
      "Exceeding the number of keys in bin 101, sample_n: 467440, bound_n: 95996\n",
      "Exceeding the number of keys in bin 102, sample_n: 433815, bound_n: 145867\n",
      "Exceeding the number of keys in bin 105, sample_n: 474838, bound_n: 55620\n",
      "Exceeding the number of keys in bin 108, sample_n: 451780, bound_n: 126530\n",
      "Exceeding the number of keys in bin 110, sample_n: 315774, bound_n: 198395\n",
      "Exceeding the number of keys in bin 111, sample_n: 475881, bound_n: 27223\n",
      "Exceeding the number of keys in bin 112, sample_n: 475755, bound_n: 35141\n",
      "Exceeding the number of keys in bin 116, sample_n: 373505, bound_n: 180396\n",
      "Exceeding the number of keys in bin 117, sample_n: 465596, bound_n: 101160\n",
      "Exceeding the number of keys in bin 118, sample_n: 474766, bound_n: 56555\n",
      "Exceeding the number of keys in bin 120, sample_n: 476062, bound_n: 880\n",
      "Exceeding the number of keys in bin 121, sample_n: 476071, bound_n: 1\n",
      "Exceeding the number of keys in bin 122, sample_n: 475910, bound_n: 24296\n",
      "Exceeding the number of keys in bin 123, sample_n: 474910, bound_n: 54631\n",
      "Exceeding the number of keys in bin 124, sample_n: 433547, bound_n: 146099\n",
      "Exceeding the number of keys in bin 125, sample_n: 447264, bound_n: 132267\n",
      "Exceeding the number of keys in bin 126, sample_n: 460103, bound_n: 113269\n",
      "Exceeding the number of keys in bin 127, sample_n: 340903, bound_n: 191562\n",
      "Exceeding the number of keys in bin 131, sample_n: 474368, bound_n: 61110\n",
      "Exceeding the number of keys in bin 132, sample_n: 369066, bound_n: 182110\n",
      "Exceeding the number of keys in bin 137, sample_n: 463877, bound_n: 105386\n",
      "Exceeding the number of keys in bin 138, sample_n: 475949, bound_n: 18855\n",
      "Exceeding the number of keys in bin 146, sample_n: 476045, bound_n: 2610\n",
      "Exceeding the number of keys in bin 147, sample_n: 476071, bound_n: 66\n",
      "Exceeding the number of keys in bin 148, sample_n: 476071, bound_n: 4\n",
      "Exceeding the number of keys in bin 151, sample_n: 372429, bound_n: 180818\n",
      "Exceeding the number of keys in bin 155, sample_n: 475217, bound_n: 49759\n",
      "Exceeding the number of keys in bin 156, sample_n: 475178, bound_n: 50450\n",
      "Exceeding the number of keys in bin 157, sample_n: 473380, bound_n: 69607\n",
      "Exceeding the number of keys in bin 158, sample_n: 475930, bound_n: 21736\n",
      "Exceeding the number of keys in bin 159, sample_n: 472078, bound_n: 77705\n",
      "Exceeding the number of keys in bin 160, sample_n: 476045, bound_n: 2608\n",
      "Exceeding the number of keys in bin 161, sample_n: 475558, bound_n: 42174\n",
      "Exceeding the number of keys in bin 163, sample_n: 350436, bound_n: 188608\n",
      "Exceeding the number of keys in bin 170, sample_n: 476071, bound_n: 1\n",
      "Exceeding the number of keys in bin 172, sample_n: 476064, bound_n: 713\n",
      "Exceeding the number of keys in bin 173, sample_n: 271012, bound_n: 207990\n",
      "Exceeding the number of keys in bin 174, sample_n: 475698, bound_n: 37549\n",
      "Exceeding the number of keys in bin 175, sample_n: 476005, bound_n: 8014\n",
      "Exceeding the number of keys in bin 176, sample_n: 476034, bound_n: 3859\n",
      "Exceeding the number of keys in bin 177, sample_n: 475878, bound_n: 27498\n",
      "Exceeding the number of keys in bin 178, sample_n: 474932, bound_n: 54319\n",
      "Exceeding the number of keys in bin 179, sample_n: 475755, bound_n: 35138\n",
      "Exceeding the number of keys in bin 180, sample_n: 471413, bound_n: 81087\n",
      "Exceeding the number of keys in bin 181, sample_n: 475960, bound_n: 16657\n",
      "Exceeding the number of keys in bin 182, sample_n: 474394, bound_n: 60837\n",
      "Exceeding the number of keys in bin 183, sample_n: 459217, bound_n: 114908\n",
      "Exceeding the number of keys in bin 184, sample_n: 472158, bound_n: 77271\n",
      "Exceeding the number of keys in bin 186, sample_n: 427209, bound_n: 151264\n",
      "Exceeding the number of keys in bin 187, sample_n: 366941, bound_n: 182906\n",
      "Exceeding the number of keys in bin 188, sample_n: 456094, bound_n: 120197\n",
      "Exceeding the number of keys in bin 193, sample_n: 476015, bound_n: 6418\n",
      "Exceeding the number of keys in bin 194, sample_n: 476071, bound_n: 71\n",
      "Exceeding the number of keys in bin 197, sample_n: 476071, bound_n: 1\n",
      "Exceeding the number of keys in bin 198, sample_n: 476071, bound_n: 33\n",
      "Exceeding the number of keys in bin 200, sample_n: 476057, bound_n: 1341\n",
      "Exceeding the number of keys in bin 201, sample_n: 476068, bound_n: 298\n",
      "Exceeding the number of keys in bin 202, sample_n: 476021, bound_n: 5599\n",
      "Exceeding the number of keys in bin 203, sample_n: 476035, bound_n: 3809\n",
      "Exceeding the number of keys in bin 204, sample_n: 476049, bound_n: 2154\n",
      "Exceeding the number of keys in bin 205, sample_n: 476038, bound_n: 3474\n",
      "Exceeding the number of keys in bin 206, sample_n: 475999, bound_n: 9157\n",
      "Exceeding the number of keys in bin 207, sample_n: 476070, bound_n: 149\n",
      "Exceeding the number of keys in bin 208, sample_n: 475766, bound_n: 34589\n",
      "Exceeding the number of keys in bin 209, sample_n: 475940, bound_n: 20351\n",
      "Exceeding the number of keys in bin 210, sample_n: 475625, bound_n: 40120\n",
      "Exceeding the number of keys in bin 211, sample_n: 475611, bound_n: 40586\n",
      "Exceeding the number of keys in bin 212, sample_n: 475805, bound_n: 32593\n",
      "Exceeding the number of keys in bin 216, sample_n: 475907, bound_n: 24674\n",
      "Exceeding the number of keys in bin 217, sample_n: 475882, bound_n: 27143\n",
      "Exceeding the number of keys in bin 219, sample_n: 476068, bound_n: 303\n",
      "Exceeding the number of keys in bin 220, sample_n: 475971, bound_n: 14644\n",
      "Exceeding the number of keys in bin 221, sample_n: 475721, bound_n: 36642\n",
      "Exceeding the number of keys in bin 222, sample_n: 476004, bound_n: 8190\n",
      "Exceeding the number of keys in bin 223, sample_n: 476041, bound_n: 3058\n",
      "Exceeding the number of keys in bin 224, sample_n: 476062, bound_n: 835\n",
      "Exceeding the number of keys in bin 225, sample_n: 476069, bound_n: 186\n",
      "Exceeding the number of keys in bin 226, sample_n: 476046, bound_n: 2490\n",
      "Exceeding the number of keys in bin 227, sample_n: 475888, bound_n: 26556\n",
      "Exceeding the number of keys in bin 228, sample_n: 476057, bound_n: 1353\n",
      "Exceeding the number of keys in bin 229, sample_n: 475978, bound_n: 13087\n",
      "Exceeding the number of keys in bin 231, sample_n: 476071, bound_n: 33\n",
      "Exceeding the number of keys in bin 232, sample_n: 476066, bound_n: 491\n",
      "Exceeding the number of keys in bin 235, sample_n: 476051, bound_n: 1954\n",
      "Exceeding the number of keys in bin 236, sample_n: 476017, bound_n: 6193\n",
      "Exceeding the number of keys in bin 237, sample_n: 475998, bound_n: 9236\n",
      "Exceeding the number of keys in bin 238, sample_n: 476071, bound_n: 62\n",
      "Exceeding the number of keys in bin 239, sample_n: 476071, bound_n: 60\n",
      "Exceeding the number of keys in bin 242, sample_n: 475834, bound_n: 30792\n",
      "Exceeding the number of keys in bin 243, sample_n: 476064, bound_n: 721\n",
      "Exceeding the number of keys in bin 244, sample_n: 476056, bound_n: 1499\n",
      "Exceeding the number of keys in bin 245, sample_n: 476070, bound_n: 93\n",
      "Exceeding the number of keys in bin 246, sample_n: 476070, bound_n: 91\n",
      "Exceeding the number of keys in bin 247, sample_n: 476070, bound_n: 94\n",
      "Exceeding the number of keys in bin 248, sample_n: 475840, bound_n: 30391\n",
      "Exceeding the number of keys in bin 249, sample_n: 476062, bound_n: 862\n",
      "Exceeding the number of keys in bin 250, sample_n: 476071, bound_n: 1\n",
      "Exceeding the number of keys in bin 253, sample_n: 476029, bound_n: 4566\n",
      "Exceeding the number of keys in bin 256, sample_n: 476071, bound_n: 1\n",
      "Exceeding the number of keys in bin 258, sample_n: 476001, bound_n: 8682\n",
      "Exceeding the number of keys in bin 263, sample_n: 476069, bound_n: 204\n",
      "Exceeding the number of keys in bin 264, sample_n: 461114, bound_n: 111312\n",
      "Exceeding the number of keys in bin 265, sample_n: 476071, bound_n: 1\n",
      "Exceeding the number of keys in bin 266, sample_n: 476068, bound_n: 295\n",
      "Exceeding the number of keys in bin 274, sample_n: 451181, bound_n: 127337\n",
      "Exceeding the number of keys in bin 276, sample_n: 476020, bound_n: 5706\n",
      "Exceeding the number of keys in bin 281, sample_n: 476071, bound_n: 2\n",
      "Exceeding the number of keys in bin 282, sample_n: 472915, bound_n: 72783\n",
      "Exceeding the number of keys in bin 283, sample_n: 474195, bound_n: 62836\n",
      "Exceeding the number of keys in bin 287, sample_n: 459950, bound_n: 113558\n",
      "Exceeding the number of keys in bin 288, sample_n: 470625, bound_n: 84652\n",
      "Exceeding the number of keys in bin 289, sample_n: 476071, bound_n: 23\n",
      "Exceeding the number of keys in bin 291, sample_n: 225838, bound_n: 215323\n",
      "Exceeding the number of keys in bin 292, sample_n: 473433, bound_n: 69216\n",
      "Exceeding the number of keys in bin 293, sample_n: 472967, bound_n: 72447\n",
      "Exceeding the number of keys in bin 294, sample_n: 411887, bound_n: 161716\n",
      "Exceeding bins: 162 / 243\n",
      "52311356\n",
      "Bulkloading key set size: 0.26554635103338914\n"
     ]
    }
   ],
   "source": [
    "bulkloading_n = int(0.6 * len(keys))\n",
    "bulkloading_keys = sample_bulkloading_keyset(\n",
    "    bin_idxs,\n",
    "    init_prob,\n",
    "    bin_idx_to_keys,\n",
    "    bulkloading_n,\n",
    "    verbose=True\n",
    ")\n",
    "print(len(bulkloading_keys)) \n",
    "print(\"Bulkloading key set size:\", len(bulkloading_keys) / len(keys))"
   ]
  },
  {
   "cell_type": "code",
   "execution_count": 24,
   "metadata": {},
   "outputs": [
    {
     "name": "stdout",
     "output_type": "stream",
     "text": [
      "Total number of bins: 243\n"
     ]
    }
   ],
   "source": [
    "\"\"\"Bin the key set, get the distribution of key set\n",
    "heuristically choose the bin size.\n",
    "\"\"\"\n",
    "bin_width_offset = 55\n",
    "bin_idxs, ini_prob, _ = KeySetBinEncoder.bin_keyset_to_distribution(\n",
    "    np.array(bulkloading_keys),\n",
    "    bin_width_offset=bin_width_offset,\n",
    "    verbose=True\n",
    ")\n",
    "# KeySetBinEncoder.plot_probability_distribution(ini_prob, bin_idxs.tolist())"
   ]
  },
  {
   "cell_type": "code",
   "execution_count": 25,
   "metadata": {},
   "outputs": [],
   "source": [
    "\n",
    "# draw the picture of the bulkloading key \n",
    "prob_dict = {}\n",
    "for i, idx in enumerate(bin_idxs):\n",
    "    prob_dict[idx] = ini_prob[i]\n",
    "y = [ prob_dict[i] if i in prob_dict else 0.0 for i in range(min_bin_num, max_bin_num+1) ]"
   ]
  },
  {
   "cell_type": "code",
   "execution_count": 26,
   "metadata": {},
   "outputs": [
    {
     "data": {
      "image/png": "[encoded data removed]",
      "text/plain": [
       "<Figure size 400x250 with 1 Axes>"
      ]
     },
     "metadata": {},
     "output_type": "display_data"
    }
   ],
   "source": [
    "# draw the estimated distribution and store the figure\n",
    "import matplotlib.pyplot as plt\n",
    "labels = x\n",
    "max_value = max(y)\n",
    "rounded_max_value = np.ceil(max_value * 50) / 50\n",
    "# rounded 0.05\n",
    "y_ = [ i * 100 for i in y]\n",
    "plt.rcParams['xtick.labelsize']=15\n",
    "plt.rcParams['ytick.labelsize']=15\n",
    "fig, ax = plt.subplots(figsize=(4, 2.5))\n",
    "ax.bar(labels, y_, color='blue', alpha=0.7)\n",
    "ax.set_xlabel('#Bin', fontsize = 15)\n",
    "ax.set_ylabel('Prob (%)', fontsize = 15)\n",
    "ax.set_ylim(0, 2)  # Set y-axis limits from 0 to 1\n",
    "ax.set_xlim(-10, 310)\n",
    "ax.grid(axis='y')\n",
    "fig.tight_layout()\n",
    "filepath = \"/users/lingze/neurbench/data/keys/osm_cellids_200M_uint64_distribution_drift_05.pdf\"\n",
    "fig.savefig(filepath, dpi = 800, bbox_inches = 'tight', pad_inches=0)\n",
    "# Show the plot\n",
    "fig.show()"
   ]
  },
  {
   "cell_type": "markdown",
   "metadata": {},
   "source": [
    "---\n",
    "### Drift 0.7"
   ]
  },
  {
   "cell_type": "code",
   "execution_count": 27,
   "metadata": {},
   "outputs": [
    {
     "data": {
      "image/png": "[encoded data removed]",
      "text/plain": [
       "<Figure size 640x480 with 1 Axes>"
      ]
     },
     "metadata": {},
     "output_type": "display_data"
    }
   ],
   "source": [
    "# Drift setting alpha = 0.1, unform drift\n",
    "init_prob = find_q(prob, 0.7, skewed=False)\n",
    "KeySetBinEncoder.plot_probability_distribution(init_prob)"
   ]
  },
  {
   "cell_type": "code",
   "execution_count": 28,
   "metadata": {},
   "outputs": [
    {
     "name": "stdout",
     "output_type": "stream",
     "text": [
      "Exceeding the number of keys in bin 16, sample_n: 1730448, bound_n: 3\n",
      "Exceeding the number of keys in bin 17, sample_n: 1728530, bound_n: 134\n",
      "Exceeding the number of keys in bin 18, sample_n: 1547648, bound_n: 12504\n",
      "Exceeding the number of keys in bin 21, sample_n: 1730462, bound_n: 2\n",
      "Exceeding the number of keys in bin 22, sample_n: 1388550, bound_n: 23382\n",
      "Exceeding the number of keys in bin 25, sample_n: 1730184, bound_n: 21\n",
      "Exceeding the number of keys in bin 34, sample_n: 277477, bound_n: 90815\n",
      "Exceeding the number of keys in bin 36, sample_n: 1044622, bound_n: 46636\n",
      "Exceeding the number of keys in bin 39, sample_n: 921493, bound_n: 54748\n",
      "Exceeding the number of keys in bin 40, sample_n: 179921, bound_n: 104536\n",
      "Exceeding the number of keys in bin 43, sample_n: 728554, bound_n: 66971\n",
      "Exceeding the number of keys in bin 44, sample_n: 175995, bound_n: 129021\n",
      "Exceeding the number of keys in bin 45, sample_n: 180317, bound_n: 102277\n",
      "Exceeding the number of keys in bin 47, sample_n: 178655, bound_n: 111993\n",
      "Exceeding the number of keys in bin 48, sample_n: 177752, bound_n: 117552\n",
      "Exceeding the number of keys in bin 49, sample_n: 504262, bound_n: 79626\n",
      "Exceeding the number of keys in bin 52, sample_n: 321581, bound_n: 87181\n",
      "Exceeding the number of keys in bin 53, sample_n: 1657509, bound_n: 4988\n",
      "Exceeding the number of keys in bin 55, sample_n: 732969, bound_n: 66701\n",
      "Exceeding the number of keys in bin 56, sample_n: 180142, bound_n: 103274\n",
      "Exceeding the number of keys in bin 59, sample_n: 470464, bound_n: 81269\n",
      "Exceeding the number of keys in bin 60, sample_n: 275496, bound_n: 91006\n",
      "Exceeding the number of keys in bin 62, sample_n: 460151, bound_n: 81751\n",
      "Exceeding the number of keys in bin 63, sample_n: 1730448, bound_n: 3\n",
      "Exceeding the number of keys in bin 66, sample_n: 186075, bound_n: 100784\n",
      "Exceeding the number of keys in bin 68, sample_n: 771102, bound_n: 64346\n",
      "Exceeding the number of keys in bin 69, sample_n: 1708359, bound_n: 1512\n",
      "Exceeding the number of keys in bin 70, sample_n: 1710115, bound_n: 1392\n",
      "Exceeding the number of keys in bin 71, sample_n: 1716716, bound_n: 941\n",
      "Exceeding the number of keys in bin 73, sample_n: 1714403, bound_n: 1099\n",
      "Exceeding the number of keys in bin 78, sample_n: 1728032, bound_n: 168\n",
      "Exceeding the number of keys in bin 84, sample_n: 171696, bound_n: 162162\n",
      "Exceeding the number of keys in bin 85, sample_n: 1552105, bound_n: 12199\n",
      "Exceeding the number of keys in bin 86, sample_n: 1334426, bound_n: 27074\n",
      "Exceeding the number of keys in bin 87, sample_n: 1028975, bound_n: 47676\n",
      "Exceeding the number of keys in bin 88, sample_n: 315992, bound_n: 87380\n",
      "Exceeding the number of keys in bin 89, sample_n: 1006420, bound_n: 49171\n",
      "Exceeding the number of keys in bin 90, sample_n: 1075351, bound_n: 44587\n",
      "Exceeding the number of keys in bin 93, sample_n: 1728954, bound_n: 105\n",
      "Exceeding the number of keys in bin 94, sample_n: 1725909, bound_n: 313\n",
      "Exceeding the number of keys in bin 95, sample_n: 604485, bound_n: 74279\n",
      "Exceeding the number of keys in bin 100, sample_n: 470845, bound_n: 81251\n",
      "Exceeding the number of keys in bin 101, sample_n: 225374, bound_n: 95996\n",
      "Exceeding the number of keys in bin 102, sample_n: 173669, bound_n: 145867\n",
      "Exceeding the number of keys in bin 105, sample_n: 908082, bound_n: 55620\n",
      "Exceeding the number of keys in bin 108, sample_n: 176364, bound_n: 126530\n",
      "Exceeding the number of keys in bin 111, sample_n: 1332240, bound_n: 27223\n",
      "Exceeding the number of keys in bin 112, sample_n: 1215706, bound_n: 35141\n",
      "Exceeding the number of keys in bin 117, sample_n: 182887, bound_n: 101160\n",
      "Exceeding the number of keys in bin 118, sample_n: 893656, bound_n: 56555\n",
      "Exceeding the number of keys in bin 120, sample_n: 1717609, bound_n: 880\n",
      "Exceeding the number of keys in bin 121, sample_n: 1730477, bound_n: 1\n",
      "Exceeding the number of keys in bin 122, sample_n: 1375160, bound_n: 24296\n",
      "Exceeding the number of keys in bin 123, sample_n: 923289, bound_n: 54631\n",
      "Exceeding the number of keys in bin 124, sample_n: 173639, bound_n: 146099\n",
      "Exceeding the number of keys in bin 125, sample_n: 175524, bound_n: 132267\n",
      "Exceeding the number of keys in bin 126, sample_n: 178445, bound_n: 113269\n",
      "Exceeding the number of keys in bin 131, sample_n: 822583, bound_n: 61110\n",
      "Exceeding the number of keys in bin 137, sample_n: 179774, bound_n: 105386\n",
      "Exceeding the number of keys in bin 138, sample_n: 1454805, bound_n: 18855\n",
      "Exceeding the number of keys in bin 146, sample_n: 1692292, bound_n: 2610\n",
      "Exceeding the number of keys in bin 147, sample_n: 1729525, bound_n: 66\n",
      "Exceeding the number of keys in bin 148, sample_n: 1730433, bound_n: 4\n",
      "Exceeding the number of keys in bin 155, sample_n: 997527, bound_n: 49759\n",
      "Exceeding the number of keys in bin 156, sample_n: 987059, bound_n: 50450\n",
      "Exceeding the number of keys in bin 157, sample_n: 684923, bound_n: 69607\n",
      "Exceeding the number of keys in bin 158, sample_n: 1412652, bound_n: 21736\n",
      "Exceeding the number of keys in bin 159, sample_n: 541676, bound_n: 77705\n",
      "Exceeding the number of keys in bin 160, sample_n: 1692322, bound_n: 2608\n",
      "Exceeding the number of keys in bin 161, sample_n: 1111391, bound_n: 42174\n",
      "Exceeding the number of keys in bin 170, sample_n: 1730477, bound_n: 1\n",
      "Exceeding the number of keys in bin 172, sample_n: 1720053, bound_n: 713\n",
      "Exceeding the number of keys in bin 174, sample_n: 1180096, bound_n: 37549\n",
      "Exceeding the number of keys in bin 175, sample_n: 1613269, bound_n: 8014\n",
      "Exceeding the number of keys in bin 176, sample_n: 1674021, bound_n: 3859\n",
      "Exceeding the number of keys in bin 177, sample_n: 1328204, bound_n: 27498\n",
      "Exceeding the number of keys in bin 178, sample_n: 928076, bound_n: 54319\n",
      "Exceeding the number of keys in bin 179, sample_n: 1215750, bound_n: 35138\n",
      "Exceeding the number of keys in bin 180, sample_n: 474307, bound_n: 81087\n",
      "Exceeding the number of keys in bin 181, sample_n: 1486946, bound_n: 16657\n",
      "Exceeding the number of keys in bin 182, sample_n: 826884, bound_n: 60837\n",
      "Exceeding the number of keys in bin 183, sample_n: 178177, bound_n: 114908\n",
      "Exceeding the number of keys in bin 184, sample_n: 549878, bound_n: 77271\n",
      "Exceeding the number of keys in bin 186, sample_n: 172986, bound_n: 151264\n",
      "Exceeding the number of keys in bin 188, sample_n: 177334, bound_n: 120197\n",
      "Exceeding the number of keys in bin 193, sample_n: 1636600, bound_n: 6418\n",
      "Exceeding the number of keys in bin 194, sample_n: 1729452, bound_n: 71\n",
      "Exceeding the number of keys in bin 197, sample_n: 1730477, bound_n: 1\n",
      "Exceeding the number of keys in bin 198, sample_n: 1730008, bound_n: 33\n",
      "Exceeding the number of keys in bin 200, sample_n: 1710862, bound_n: 1341\n",
      "Exceeding the number of keys in bin 201, sample_n: 1726129, bound_n: 298\n",
      "Exceeding the number of keys in bin 202, sample_n: 1648575, bound_n: 5599\n",
      "Exceeding the number of keys in bin 203, sample_n: 1674753, bound_n: 3809\n",
      "Exceeding the number of keys in bin 204, sample_n: 1698964, bound_n: 2154\n",
      "Exceeding the number of keys in bin 205, sample_n: 1679653, bound_n: 3474\n",
      "Exceeding the number of keys in bin 206, sample_n: 1596563, bound_n: 9157\n",
      "Exceeding the number of keys in bin 207, sample_n: 1728310, bound_n: 149\n",
      "Exceeding the number of keys in bin 208, sample_n: 1223856, bound_n: 34589\n",
      "Exceeding the number of keys in bin 209, sample_n: 1432921, bound_n: 20351\n",
      "Exceeding the number of keys in bin 210, sample_n: 1141959, bound_n: 40120\n",
      "Exceeding the number of keys in bin 211, sample_n: 1135032, bound_n: 40586\n",
      "Exceeding the number of keys in bin 212, sample_n: 1253290, bound_n: 32593\n",
      "Exceeding the number of keys in bin 216, sample_n: 1369621, bound_n: 24674\n",
      "Exceeding the number of keys in bin 217, sample_n: 1333414, bound_n: 27143\n",
      "Exceeding the number of keys in bin 219, sample_n: 1726055, bound_n: 303\n",
      "Exceeding the number of keys in bin 220, sample_n: 1516371, bound_n: 14644\n",
      "Exceeding the number of keys in bin 221, sample_n: 1193520, bound_n: 36642\n",
      "Exceeding the number of keys in bin 222, sample_n: 1610697, bound_n: 8190\n",
      "Exceeding the number of keys in bin 223, sample_n: 1685738, bound_n: 3058\n",
      "Exceeding the number of keys in bin 224, sample_n: 1718268, bound_n: 835\n",
      "Exceeding the number of keys in bin 225, sample_n: 1727768, bound_n: 186\n",
      "Exceeding the number of keys in bin 226, sample_n: 1694048, bound_n: 2490\n",
      "Exceeding the number of keys in bin 227, sample_n: 1342026, bound_n: 26556\n",
      "Exceeding the number of keys in bin 228, sample_n: 1710686, bound_n: 1353\n",
      "Exceeding the number of keys in bin 229, sample_n: 1539127, bound_n: 13087\n",
      "Exceeding the number of keys in bin 231, sample_n: 1730008, bound_n: 33\n",
      "Exceeding the number of keys in bin 232, sample_n: 1723303, bound_n: 491\n",
      "Exceeding the number of keys in bin 235, sample_n: 1701891, bound_n: 1954\n",
      "Exceeding the number of keys in bin 236, sample_n: 1639890, bound_n: 6193\n",
      "Exceeding the number of keys in bin 237, sample_n: 1595408, bound_n: 9236\n",
      "Exceeding the number of keys in bin 238, sample_n: 1729584, bound_n: 62\n",
      "Exceeding the number of keys in bin 239, sample_n: 1729613, bound_n: 60\n",
      "Exceeding the number of keys in bin 242, sample_n: 1279804, bound_n: 30792\n",
      "Exceeding the number of keys in bin 243, sample_n: 1719936, bound_n: 721\n",
      "Exceeding the number of keys in bin 244, sample_n: 1708549, bound_n: 1499\n",
      "Exceeding the number of keys in bin 245, sample_n: 1729130, bound_n: 93\n",
      "Exceeding the number of keys in bin 246, sample_n: 1729159, bound_n: 91\n",
      "Exceeding the number of keys in bin 247, sample_n: 1729115, bound_n: 94\n",
      "Exceeding the number of keys in bin 248, sample_n: 1285702, bound_n: 30391\n",
      "Exceeding the number of keys in bin 249, sample_n: 1717873, bound_n: 862\n",
      "Exceeding the number of keys in bin 250, sample_n: 1730477, bound_n: 1\n",
      "Exceeding the number of keys in bin 253, sample_n: 1663681, bound_n: 4566\n",
      "Exceeding the number of keys in bin 256, sample_n: 1730477, bound_n: 1\n",
      "Exceeding the number of keys in bin 258, sample_n: 1603505, bound_n: 8682\n",
      "Exceeding the number of keys in bin 263, sample_n: 1727505, bound_n: 204\n",
      "Exceeding the number of keys in bin 264, sample_n: 178768, bound_n: 111312\n",
      "Exceeding the number of keys in bin 265, sample_n: 1730477, bound_n: 1\n",
      "Exceeding the number of keys in bin 266, sample_n: 1726173, bound_n: 295\n",
      "Exceeding the number of keys in bin 274, sample_n: 176244, bound_n: 127337\n",
      "Exceeding the number of keys in bin 276, sample_n: 1647010, bound_n: 5706\n",
      "Exceeding the number of keys in bin 281, sample_n: 1730462, bound_n: 2\n",
      "Exceeding the number of keys in bin 282, sample_n: 630770, bound_n: 72783\n",
      "Exceeding the number of keys in bin 283, sample_n: 795243, bound_n: 62836\n",
      "Exceeding the number of keys in bin 287, sample_n: 178397, bound_n: 113558\n",
      "Exceeding the number of keys in bin 288, sample_n: 392696, bound_n: 84652\n",
      "Exceeding the number of keys in bin 289, sample_n: 1730155, bound_n: 23\n",
      "Exceeding the number of keys in bin 292, sample_n: 691461, bound_n: 69216\n",
      "Exceeding the number of keys in bin 293, sample_n: 636598, bound_n: 72447\n",
      "Exceeding the number of keys in bin 294, sample_n: 171746, bound_n: 161716\n",
      "Exceeding bins: 149 / 243\n",
      "28407954\n",
      "Bulkloading key set size: 0.1442063273034706\n"
     ]
    }
   ],
   "source": [
    "bulkloading_n = int(1 * len(keys))\n",
    "bulkloading_keys = sample_bulkloading_keyset(\n",
    "    bin_idxs,\n",
    "    init_prob,\n",
    "    bin_idx_to_keys,\n",
    "    bulkloading_n,\n",
    "    verbose=True\n",
    ")\n",
    "print(len(bulkloading_keys)) \n",
    "print(\"Bulkloading key set size:\", len(bulkloading_keys) / len(keys))"
   ]
  },
  {
   "cell_type": "code",
   "execution_count": 29,
   "metadata": {},
   "outputs": [
    {
     "name": "stdout",
     "output_type": "stream",
     "text": [
      "Total number of bins: 243\n"
     ]
    }
   ],
   "source": [
    "\"\"\"Bin the key set, get the distribution of key set\n",
    "heuristically choose the bin size.\n",
    "\"\"\"\n",
    "bin_width_offset = 55\n",
    "bin_idxs, ini_prob, _ = KeySetBinEncoder.bin_keyset_to_distribution(\n",
    "    np.array(bulkloading_keys),\n",
    "    bin_width_offset=bin_width_offset,\n",
    "    verbose=True\n",
    ")\n",
    "# KeySetBinEncoder.plot_probability_distribution(ini_prob, bin_idxs.tolist())"
   ]
  },
  {
   "cell_type": "code",
   "execution_count": 30,
   "metadata": {},
   "outputs": [],
   "source": [
    "\n",
    "# draw the picture of the bulkloading key \n",
    "prob_dict = {}\n",
    "for i, idx in enumerate(bin_idxs):\n",
    "    prob_dict[idx] = ini_prob[i]\n",
    "y = [ prob_dict[i] if i in prob_dict else 0.0 for i in range(min_bin_num, max_bin_num+1) ]"
   ]
  },
  {
   "cell_type": "code",
   "execution_count": 31,
   "metadata": {},
   "outputs": [
    {
     "data": {
      "image/png": "[encoded data removed]",
      "text/plain": [
       "<Figure size 400x250 with 1 Axes>"
      ]
     },
     "metadata": {},
     "output_type": "display_data"
    }
   ],
   "source": [
    "# draw the estimated distribution and store the figure\n",
    "import matplotlib.pyplot as plt\n",
    "labels = x\n",
    "max_value = max(y)\n",
    "rounded_max_value = np.ceil(max_value * 50) / 50\n",
    "# rounded 0.05\n",
    "y_ = [ i * 100 for i in y]\n",
    "plt.rcParams['xtick.labelsize']=15\n",
    "plt.rcParams['ytick.labelsize']=15\n",
    "fig, ax = plt.subplots(figsize=(4, 2.5))\n",
    "ax.bar(labels, y_, color='blue', alpha=0.7)\n",
    "ax.set_xlabel('#Bin', fontsize = 15)\n",
    "ax.set_ylabel('Prob (%)', fontsize = 15)\n",
    "ax.set_ylim(0, 2)  # Set y-axis limits from 0 to 1\n",
    "ax.set_xlim(-10, 310)\n",
    "ax.grid(axis='y')\n",
    "fig.tight_layout()\n",
    "filepath = \"/users/lingze/neurbench/data/keys/osm_cellids_200M_uint64_distribution_drift_07.pdf\"\n",
    "fig.savefig(filepath, dpi = 800, bbox_inches = 'tight', pad_inches=0)\n",
    "# Show the plot\n",
    "fig.show()"
   ]
  },
  {
   "cell_type": "code",
   "execution_count": null,
   "metadata": {},
   "outputs": [],
   "source": []
  }
 ],
 "metadata": {
  "kernelspec": {
   "display_name": "neurbench",
   "language": "python",
   "name": "python3"
  },
  "language_info": {
   "codemirror_mode": {
    "name": "ipython",
    "version": 3
   },
   "file_extension": ".py",
   "mimetype": "text/x-python",
   "name": "python",
   "nbconvert_exporter": "python",
   "pygments_lexer": "ipython3",
   "version": "3.11.9"
  }
 },
 "nbformat": 4,
 "nbformat_minor": 2
}
