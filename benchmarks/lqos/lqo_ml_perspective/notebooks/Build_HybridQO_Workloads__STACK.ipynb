{
 "cells": [
  {
   "cell_type": "code",
   "execution_count": 1,
   "id": "5a01e816",
   "metadata": {},
   "outputs": [
    {
     "data": {
      "text/html": [
       "<style>.container { width:100% !important; }</style>"
      ],
      "text/plain": [
       "<IPython.core.display.HTML object>"
      ]
     },
     "metadata": {},
     "output_type": "display_data"
    }
   ],
   "source": [
    "from IPython.display import display, HTML\n",
    "display(HTML(\"<style>.container { width:100% !important; }</style>\"))"
   ]
  },
  {
   "cell_type": "code",
   "execution_count": 2,
   "id": "20bfbe86",
   "metadata": {},
   "outputs": [
    {
     "data": {
      "text/plain": [
       "'/home/lehl/development/QueryOptDeepDive'"
      ]
     },
     "execution_count": 2,
     "metadata": {},
     "output_type": "execute_result"
    }
   ],
   "source": [
    "import os\n",
    "import sys\n",
    "\n",
    "if os.getcwd().split('/')[-1] == 'notebooks':\n",
    "    os.chdir('../')\n",
    "os.getcwd()"
   ]
  },
  {
   "cell_type": "code",
   "execution_count": 3,
   "id": "70a96f95",
   "metadata": {},
   "outputs": [],
   "source": [
    "import os\n",
    "import re\n",
    "import datetime\n",
    "import json\n",
    "\n",
    "import pandas as pd\n",
    "import numpy as np\n",
    "import matplotlib.pyplot as plt"
   ]
  },
  {
   "cell_type": "code",
   "execution_count": 4,
   "metadata": {},
   "outputs": [],
   "source": [
    "from mo_sql_parsing import parse"
   ]
  },
  {
   "cell_type": "code",
   "execution_count": 5,
   "metadata": {},
   "outputs": [
    {
     "data": {
      "text/plain": [
       "{'a1',\n",
       " 'acc',\n",
       " 'account',\n",
       " 'b',\n",
       " 'b1',\n",
       " 'b2',\n",
       " 'c1',\n",
       " 'c2',\n",
       " 'pl',\n",
       " 'q',\n",
       " 'q1',\n",
       " 'q2',\n",
       " 'question',\n",
       " 's',\n",
       " 's1',\n",
       " 's2',\n",
       " 'site',\n",
       " 'so_user',\n",
       " 't',\n",
       " 't1',\n",
       " 't2',\n",
       " 'tag',\n",
       " 'tag_question',\n",
       " 'tq',\n",
       " 'tq1',\n",
       " 'tq2',\n",
       " 'u1',\n",
       " 'u2'}"
      ]
     },
     "execution_count": 5,
     "metadata": {},
     "output_type": "execute_result"
    }
   ],
   "source": [
    "aliases = set()\n",
    "\n",
    "for file in os.listdir('balsa/queries/stack/'):\n",
    "    if not file.endswith('.sql'):\n",
    "        continue\n",
    "\n",
    "    with open(os.path.join('balsa', 'queries', 'stack', file), 'r') as f:\n",
    "        lines = f.readlines()\n",
    "\n",
    "    sql = ''.join(lines)\n",
    "    res = parse(sql)\n",
    "\n",
    "    for alias in res['from']:\n",
    "        if isinstance(alias, str):\n",
    "            aliases.add(alias)\n",
    "        else:\n",
    "            aliases.add(alias['name'])\n",
    "\n",
    "aliases"
   ]
  },
  {
   "cell_type": "code",
   "execution_count": 8,
   "metadata": {},
   "outputs": [
    {
     "name": "stdout",
     "output_type": "stream",
     "text": [
      "id2aliasname = {0: 'start', 1: 'a1', 2: 'acc', 3: 'account', 4: 'b', 5: 'b1', 6: 'b2', 7: 'c1', 8: 'c2', 9: 'pl', 10: 'q', 11: 'q1', 12: 'q2', 13: 'question', 14: 's', 15: 's1', 16: 's2', 17: 'site', 18: 'so_user', 19: 't', 20: 't1', 21: 't2', 22: 'tag', 23: 'tag_question', 24: 'tq', 25: 'tq1', 26: 'tq2', 27: 'u1', 28: 'u2'}\n",
      "\n",
      "aliasname2id = {'start': 0, 'a1': 1, 'acc': 2, 'account': 3, 'b': 4, 'b1': 5, 'b2': 6, 'c1': 7, 'c2': 8, 'pl': 9, 'q': 10, 'q1': 11, 'q2': 12, 'question': 13, 's': 14, 's1': 15, 's2': 16, 'site': 17, 'so_user': 18, 't': 19, 't1': 20, 't2': 21, 'tag': 22, 'tag_question': 23, 'tq': 24, 'tq1': 25, 'tq2': 26, 'u1': 27, 'u2': 28}\n"
     ]
    }
   ],
   "source": [
    "aliases = sorted(aliases)\n",
    "\n",
    "id2aliasname = dict()\n",
    "aliasname2id = dict()\n",
    "\n",
    "id2aliasname[0] = 'start'\n",
    "aliasname2id['start'] = 0\n",
    "\n",
    "for aid, alias in enumerate(aliases):\n",
    "    id2aliasname[aid+1] = alias\n",
    "    aliasname2id[alias] = aid+1\n",
    "\n",
    "print(f\"id2aliasname = {id2aliasname}\")\n",
    "print()\n",
    "print(f\"aliasname2id = {aliasname2id}\")"
   ]
  },
  {
   "cell_type": "code",
   "execution_count": 9,
   "id": "fec98385",
   "metadata": {},
   "outputs": [
    {
     "data": {
      "text/plain": [
       "(29, 29)"
      ]
     },
     "execution_count": 9,
     "metadata": {},
     "output_type": "execute_result"
    }
   ],
   "source": [
    "id2aliasname = {\n",
    "    0: 'start', 1: 'a1', 2: 'acc', 3: 'account', 4: 'b', 5: 'b1', 6: 'b2', 7: 'c1', 8: 'c2', 9:\n",
    "    'pl', 10: 'q', 11: 'q1', 12: 'q2', 13: 'question', 14: 's', 15: 's1', 16: 's2', 17: 'site', 18: 'so_user', 19: 't',\n",
    "    20: 't1', 21: 't2', 22: 'tag', 23: 'tag_question', 24: 'tq', 25: 'tq1', 26: 'tq2', 27: 'u1', 28: 'u2'\n",
    "}\n",
    "\n",
    "aliasname2id = {\n",
    "    'start': 0, 'a1': 1, 'acc': 2, 'account': 3, 'b': 4, 'b1': 5, 'b2': 6, 'c1': 7, 'c2': 8, 'pl': 9,\n",
    "    'q': 10, 'q1': 11, 'q2': 12, 'question': 13, 's': 14, 's1': 15, 's2': 16, 'site': 17, 'so_user': 18,\n",
    "    't': 19, 't1': 20, 't2': 21, 'tag': 22, 'tag_question': 23, 'tq': 24, 'tq1': 25, 'tq2': 26, 'u1': 27, 'u2': 28\n",
    "}\n",
    "\n",
    "len(id2aliasname.keys()), len(aliasname2id.keys())"
   ]
  },
  {
   "cell_type": "code",
   "execution_count": 10,
   "metadata": {},
   "outputs": [
    {
     "name": "stdout",
     "output_type": "stream",
     "text": [
      "['q5__q5-052.sql', 'q3__q3-068.sql', 'q3__q3-046.sql', 'q5__q5-041.sql', 'q4__q4-002.sql', 'q8__q8-096.sql', 'q4__q4-086.sql', 'q16__ea9efde510227beb8d624b8c4a6941b9d5e6e637.sql', 'q7__q7-034.sql', 'q16__fbe34e8fdf672a34fd82cbbd6d9a81fd02ce17d1.sql', 'q14__5dbc1d1f1a0467ad0086e6cb337144387a37533a.sql', 'q6__q6-067.sql', 'q12__55de941e8497cfeeb93d3f8f2d7a18489e0e6c32.sql', 'q6__q6-064.sql', 'q1__q1-067.sql', 'q4__q4-064.sql', 'q3__q3-066.sql', 'q13__a3d03772d880754fc4e150d82908757477ae2186.sql', 'q13__d383cd5b4aee7d3f73508e2a1fe5f6d0f7dd42a2.sql', 'q5__q5-077.sql', 'q5__q5-032.sql', 'q15__3e37e62655ceaebc14e79edad518e5710752f51d.sql', 'q11__c1ae2a992cde4ea2c4922d852df22043254b4f84.sql', 'q14__74fd1af68d23f0690e3d0fc80bd9b42fa90a7e94.sql', 'q16__ed2ffeaefcf5ad8bbadc713ccc766541e12080aa.sql', 'q1__q1-100.sql', 'q12__06c8d6886a03d4d92837f38ff395b888de007d33.sql', 'q7__q7-085.sql', 'q4__q4-026.sql', 'q14__719e692d411868ae7a93909757872d264f6bbf73.sql', 'q14__b49361f85785200ed6ec1f2eec357b7598c9e564.sql', 'q12__547c6bf1994c9b2ba82a7ae32f4b051beabf46fd.sql', 'q16__d5290889129fb8e625f2b36fa106e30d6c4b243b.sql', 'q2__q2-035.sql', 'q1__q1-098.sql', 'q6__q6-085.sql', 'q11__0ea8bacde0e13a4314466435cf49c8e685b39fb1.sql', 'q14__63c0776f1727638316b966fe748df7cc585a335b.sql', 'q15__d5546c01928a687eb1f54e9f8eb4e1aff68fc381.sql', 'q3__q3-018.sql', 'q16__f67cec3d635586efb847c832072be83b42cc45b7.sql', 'q15__78995a5fc0536aa53b99be32ce84dcbf40e826f3.sql', 'q3__q3-099.sql', 'q7__q7-077.sql', 'q7__q7-099.sql', 'q15__21e4988a3f47be288de5891d69acf91928ed94eb.sql', 'q7__q7-095.sql', 'q3__q3-043.sql', 'q11__aa96c8d7abbf8a5b6d29473c1b9447a84f8b4f52.sql', 'q2__q2-001.sql', 'q4__q4-089.sql', 'q8__q8-074.sql', 'q2__q2-050.sql', 'q8__q8-006.sql', 'q12__812a3effb91cb789490fc2e12af772b1a35f8552.sql', 'q8__q8-062.sql', 'q8__q8-025.sql', 'q11__9389f58853715321e2a60ad743f99fc365f040cb.sql', 'q12__0700720596313f7fa30c0dd3d4a3001c896ba760.sql', 'q14__97e68ad5c2ced4c182366b3118a1f5f69b423fa6.sql', 'q5__q5-059.sql', 'q3__q3-086.sql', 'q15__b2ee2c788d30655058aeb992811e9a54f17f2998.sql', 'q4__q4-041.sql', 'q1__q1-009.sql', 'q11__33e1caf220e5bea2e592c82eede1c0427e2c2570.sql', 'q11__6c5cba419c5b7b02d431aeb5e766d775d812967a.sql', 'q16__b1a96cd48ba297dd93bce73c27b491069ad7449f.sql', 'q2__q2-012.sql', 'q8__q8-065.sql', 'q13__a091adce62743b65c04532e98e8ff3d7e546ea77.sql', 'q16__1e863562a79ca1f7754c759ebab6a2addda0bde8.sql', 'q16__374e3e4c9eefc294fa4c46220953336298df3622.sql', 'q6__q6-002.sql', 'q13__13ad1b8c6bea4fda1892b9fa82cc1ceb9ceb85fc.sql', 'q12__5a5ff9bd9de9e748708116727803117e453e30da.sql', 'q3__q3-040.sql', 'q2__q2-032.sql', 'q12__76a47868a09eec9f95bacb2cf21492d353698eb7.sql', 'q11__e4ca35591923cf4efc89e64b17fb4d330c0b34df.sql', 'q13__935e2051bf80eeafe91aeb6eb719b6b64b9592c2.sql', 'q7__q7-036.sql', 'q4__q4-074.sql', 'q6__q6-060.sql', 'q2__q2-081.sql', 'q15__b8ddf65b0c0c7867a9b560e571d457fec410715c.sql', 'q14__4063b6cbbd1c0f2a902a647aafe24174a75f53cd.sql', 'q13__add0df9dccb2790c14508e19c9e0deb79fad6ea2.sql', 'q14__5e4835cd72aaa2d7be15b2a5ffa2e66156b3656f.sql', 'q8__q8-046.sql', 'q12__bde6c0cf5e67ddae4ec0dbb787291da703e406d5.sql', 'q6__q6-009.sql', 'q11__87c4bd0930b02a3361ac2e86c453db1fec60dc6b.sql', 'q8__q8-076.sql', 'q2__q2-094.sql', 'q7__q7-047.sql', 'q1__q1-075.sql', 'q7__q7-082.sql', 'q5__q5-015.sql', 'q4__q4-042.sql', 'q2__q2-098.sql', 'q5__q5-082.sql', 'q13__d4707be2adfdbc842f42acb1fc16e3a43faf7474.sql', 'q15__543ab3f730e494a69e3d15e59675f491544cb15d.sql', 'q6__q6-069.sql', 'q13__1ddcc8650e17b292bc7344902baffc90c5ae5761.sql', 'q1__q1-099.sql', 'q5__q5-079.sql', 'q1__q1-031.sql', 'q15__c9619ad44302bada330d337c174f9dab77538622.sql', 'q1__q1-035.sql', 'q6__q6-065.sql']\n"
     ]
    }
   ],
   "source": [
    "all_queries = os.listdir('balsa/queries/stack')\n",
    "all_queries = [q for q in all_queries if q.endswith('sql')]\n",
    "print(all_queries)"
   ]
  },
  {
   "cell_type": "code",
   "execution_count": 18,
   "id": "732266f7",
   "metadata": {},
   "outputs": [],
   "source": [
    "QUERY_TIMEOUT = 2 * 3 * 60 * 1000"
   ]
  },
  {
   "cell_type": "code",
   "execution_count": 20,
   "id": "d6a75e09",
   "metadata": {},
   "outputs": [
    {
     "name": "stdout",
     "output_type": "stream",
     "text": [
      "base_query_split_1\n",
      "['q13__13ad1b8c6bea4fda1892b9fa82cc1ceb9ceb85fc.sql', 'q13__1ddcc8650e17b292bc7344902baffc90c5ae5761.sql', 'q13__935e2051bf80eeafe91aeb6eb719b6b64b9592c2.sql', 'q13__a091adce62743b65c04532e98e8ff3d7e546ea77.sql', 'q13__a3d03772d880754fc4e150d82908757477ae2186.sql', 'q13__add0df9dccb2790c14508e19c9e0deb79fad6ea2.sql', 'q13__d383cd5b4aee7d3f73508e2a1fe5f6d0f7dd42a2.sql', 'q13__d4707be2adfdbc842f42acb1fc16e3a43faf7474.sql', 'q2__q2-001.sql', 'q2__q2-012.sql', 'q2__q2-032.sql', 'q2__q2-035.sql', 'q2__q2-050.sql', 'q2__q2-081.sql', 'q2__q2-094.sql', 'q2__q2-098.sql', 'q7__q7-034.sql', 'q7__q7-036.sql', 'q7__q7-047.sql', 'q7__q7-077.sql', 'q7__q7-082.sql', 'q7__q7-085.sql', 'q7__q7-095.sql', 'q7__q7-099.sql']\n",
      "------------------------------------------------------------------------------------------\n",
      "leave_one_out_split_1\n",
      "['q11__6c5cba419c5b7b02d431aeb5e766d775d812967a.sql', 'q12__547c6bf1994c9b2ba82a7ae32f4b051beabf46fd.sql', 'q13__935e2051bf80eeafe91aeb6eb719b6b64b9592c2.sql', 'q14__5e4835cd72aaa2d7be15b2a5ffa2e66156b3656f.sql', 'q15__543ab3f730e494a69e3d15e59675f491544cb15d.sql', 'q16__b1a96cd48ba297dd93bce73c27b491069ad7449f.sql', 'q1__q1-035.sql', 'q2__q2-032.sql', 'q3__q3-043.sql', 'q4__q4-041.sql', 'q5__q5-041.sql', 'q6__q6-060.sql', 'q7__q7-047.sql', 'q8__q8-046.sql']\n",
      "------------------------------------------------------------------------------------------\n",
      "random_split_1\n",
      "['q11__6c5cba419c5b7b02d431aeb5e766d775d812967a.sql', 'q11__c1ae2a992cde4ea2c4922d852df22043254b4f84.sql', 'q12__55de941e8497cfeeb93d3f8f2d7a18489e0e6c32.sql', 'q14__63c0776f1727638316b966fe748df7cc585a335b.sql', 'q14__74fd1af68d23f0690e3d0fc80bd9b42fa90a7e94.sql', 'q14__97e68ad5c2ced4c182366b3118a1f5f69b423fa6.sql', 'q14__b49361f85785200ed6ec1f2eec357b7598c9e564.sql', 'q15__3e37e62655ceaebc14e79edad518e5710752f51d.sql', 'q15__543ab3f730e494a69e3d15e59675f491544cb15d.sql', 'q15__b8ddf65b0c0c7867a9b560e571d457fec410715c.sql', 'q15__d5546c01928a687eb1f54e9f8eb4e1aff68fc381.sql', 'q16__1e863562a79ca1f7754c759ebab6a2addda0bde8.sql', 'q16__ea9efde510227beb8d624b8c4a6941b9d5e6e637.sql', 'q16__ed2ffeaefcf5ad8bbadc713ccc766541e12080aa.sql', 'q1__q1-031.sql', 'q1__q1-035.sql', 'q4__q4-042.sql', 'q4__q4-064.sql', 'q4__q4-089.sql', 'q5__q5-032.sql', 'q6__q6-060.sql', 'q6__q6-064.sql', 'q7__q7-099.sql']\n",
      "------------------------------------------------------------------------------------------\n"
     ]
    }
   ],
   "source": [
    "TEST_QUERIES = dict()\n",
    "\n",
    "for folder in os.listdir('bao/queries'):\n",
    "    if not folder.startswith('stack__'):\n",
    "        continue\n",
    "        \n",
    "    key = folder.split('stack__')[1]\n",
    "    \n",
    "    queries = os.listdir(os.path.join('bao', 'queries', folder, 'test'))\n",
    "    queries = sorted(queries)\n",
    "\n",
    "    TEST_QUERIES[key] = queries\n",
    "    \n",
    "for k in sorted(TEST_QUERIES.keys()):\n",
    "    print(k)\n",
    "    print(TEST_QUERIES[k])\n",
    "    print('---' * 30)\n",
    "\n",
    "# TEST_QUERIES = {\n",
    "#     'base_query_split_1': ['02a', '02b', '02c', '02d', '07a', '07b', '07c', '15a', '15b', '15c', '15d', '24a', '24b', '25a', '25b', '25c', '31a', '31b', '31c'],\n",
    "#     'base_query_split_2': ['13a', '13b', '13c', '13d', '15a', '15b', '15c', '15d', '20a', '20b', '20c', '26a', '26b', '26c', '29a', '29b', '29c', '30a', '30b', '30c', '33a', '33b', '33c'],\n",
    "#     'base_query_split_3': ['01a', '01b', '01c', '01d', '05a', '05b', '05c', '12a', '12b', '12c', '17a', '17b', '17c', '17d', '17e', '17f', '22a', '22b', '22c', '22d', '27a', '27b', '27c', '28a', '28b', '28c'],\n",
    "#     'leave_one_out_split_1': ['01c', '02a', '03b', '04a', '05a', '06b', '07c', '08c', '09c', '10b', '11b', '12c', '13b', '14a', '15b', '16c', '17c', '18b', '19a', '20c', '21c', '22b', '23b', '24a', '25a', '26c', '27c', '28a', '29b', '30a', '31b', '32b', '33c'],\n",
    "#     'leave_one_out_split_2': ['01d', '02d', '03a', '04b', '05c', '06d', '07a', '08c', '09c', '10a', '11a', '12a', '13d', '14b', '15b', '16a', '17f', '18a', '19d', '20a', '21b', '22c', '23b', '24b', '25a', '26a', '27b', '28c', '29a', '30b', '31a', '32b', '33b'],\n",
    "#     'leave_one_out_split_3': ['01c', '02d', '03b', '04a', '05c', '06d', '07b', '08a', '09a', '10c', '11d', '12a', '13a', '14b', '15a', '16d', '17b', '18b', '19d', '20b', '21a', '22a', '23b', '24a', '25b', '26a', '27a', '28b', '29c', '30a', '31a', '32a', '33c'],\n",
    "#     'random_split_1': ['01c', '02c', '04b', '04c', '05c', '06a', '06c', '06e', '08b', '08c', '09c', '11d', '15a', '17b', '17e', '18b', '20a', '21a', '25c', '28b', '32b', '33a'],\n",
    "#     'random_split_2': ['01a', '04c', '05c', '06c', '06d', '07b', '08c', '10a', '11a', '11d', '13c', '13d', '15d', '16a', '17b', '19a', '20a', '22b', '25b', '29b', '31a', '32b'],\n",
    "#     'random_split_3': ['02a', '03b', '06d', '09b', '10b', '11b', '11c', '13c', '13d', '16b', '18c', '19c', '21c', '22a', '22d', '26a', '26b', '27c', '28a', '28c', '30a', '33c'],\n",
    "# }"
   ]
  },
  {
   "cell_type": "code",
   "execution_count": 21,
   "id": "a57085e7",
   "metadata": {},
   "outputs": [],
   "source": [
    "def build_workload(queries):\n",
    "    tmp = []\n",
    "\n",
    "    for q in queries:\n",
    "        with open(os.path.join('balsa', 'queries', 'stack', q), 'r') as f:\n",
    "            lines = f.readlines()\n",
    "\n",
    "        sql = ''.join(lines)\n",
    "        sql = sql.split(';')[0] + ';'\n",
    "            \n",
    "        tmp.append([sql, q, [-1, False]])\n",
    "        \n",
    "    return tmp"
   ]
  },
  {
   "cell_type": "code",
   "execution_count": 27,
   "id": "d157f2e1",
   "metadata": {
    "scrolled": false
   },
   "outputs": [
    {
     "name": "stdout",
     "output_type": "stream",
     "text": [
      "WORKLOAD: base_query_split_1 (hybrid_qo/workload/STACK__base_query_split_1)\n",
      "WORKLOAD: leave_one_out_split_1 (hybrid_qo/workload/STACK__leave_one_out_split_1)\n",
      "WORKLOAD: random_split_1 (hybrid_qo/workload/STACK__random_split_1)\n"
     ]
    }
   ],
   "source": [
    "for key in TEST_QUERIES.keys():\n",
    "    base_path = f\"hybrid_qo/workload/STACK__{key}\"\n",
    "    print(f'WORKLOAD: {key} ({base_path})')\n",
    "    #os.remove(f\"{base_path}__train.json\")\n",
    "    #os.remove(f\"{base_path}__test.json\")\n",
    "    \n",
    "    test_queries = []\n",
    "    for q in TEST_QUERIES[key]:\n",
    "        test_queries.append(q)\n",
    "    \n",
    "    train_queries = []\n",
    "    for q in sorted(all_queries):\n",
    "        if q not in test_queries:\n",
    "            train_queries.append(q)\n",
    "    \n",
    "    \n",
    "    train_wl = build_workload(train_queries)\n",
    "    with open(f\"{base_path}__train.json\", 'w') as f:\n",
    "        json.dump(train_wl, f)\n",
    "    \n",
    "    test_wl = build_workload(test_queries)\n",
    "    with open(f\"{base_path}__test.json\", 'w') as f:\n",
    "        json.dump(test_wl, f)\n",
    "    \n"
   ]
  },
  {
   "cell_type": "code",
   "execution_count": 28,
   "id": "676a887b",
   "metadata": {},
   "outputs": [
    {
     "data": {
      "text/plain": [
       "['JOB__base_query_split_1__test.json',\n",
       " 'JOB__base_query_split_1__train.json',\n",
       " 'JOB__base_query_split_2__test.json',\n",
       " 'JOB__base_query_split_2__train.json',\n",
       " 'JOB__base_query_split_3__test.json',\n",
       " 'JOB__base_query_split_3__train.json',\n",
       " 'JOB__leave_one_out_split_1__test.json',\n",
       " 'JOB__leave_one_out_split_1__train.json',\n",
       " 'JOB__leave_one_out_split_2__test.json',\n",
       " 'JOB__leave_one_out_split_2__train.json',\n",
       " 'JOB__leave_one_out_split_3__test.json',\n",
       " 'JOB__leave_one_out_split_3__train.json',\n",
       " 'JOB__random_split_1__test.json',\n",
       " 'JOB__random_split_1__train.json',\n",
       " 'JOB__random_split_2__test.json',\n",
       " 'JOB__random_split_2__train.json',\n",
       " 'JOB__random_split_3__test.json',\n",
       " 'JOB__random_split_3__train.json',\n",
       " 'JOB_dynamic.json',\n",
       " 'JOB_static.json',\n",
       " 'STACK__base_query_split_1__test.json',\n",
       " 'STACK__base_query_split_1__train.json',\n",
       " 'STACK__leave_one_out_split_1__test.json',\n",
       " 'STACK__leave_one_out_split_1__train.json',\n",
       " 'STACK__random_split_1__test.json',\n",
       " 'STACK__random_split_1__train.json']"
      ]
     },
     "execution_count": 28,
     "metadata": {},
     "output_type": "execute_result"
    }
   ],
   "source": [
    "sorted(os.listdir('hybrid_qo/workload'))"
   ]
  },
  {
   "cell_type": "code",
   "execution_count": null,
   "id": "e1719753",
   "metadata": {},
   "outputs": [],
   "source": []
  }
 ],
 "metadata": {
  "kernelspec": {
   "display_name": "env",
   "language": "python",
   "name": "python3"
  },
  "language_info": {
   "codemirror_mode": {
    "name": "ipython",
    "version": 3
   },
   "file_extension": ".py",
   "mimetype": "text/x-python",
   "name": "python",
   "nbconvert_exporter": "python",
   "pygments_lexer": "ipython3",
   "version": "3.9.12"
  }
 },
 "nbformat": 4,
 "nbformat_minor": 5
}
