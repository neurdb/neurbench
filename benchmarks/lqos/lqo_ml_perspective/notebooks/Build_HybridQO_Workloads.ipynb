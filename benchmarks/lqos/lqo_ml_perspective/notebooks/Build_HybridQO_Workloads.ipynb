{
 "cells": [
  {
   "cell_type": "code",
   "execution_count": 142,
   "id": "5a01e816",
   "metadata": {},
   "outputs": [
    {
     "data": {
      "text/html": [
       "<style>.container { width:100% !important; }</style>"
      ],
      "text/plain": [
       "<IPython.core.display.HTML object>"
      ]
     },
     "metadata": {},
     "output_type": "display_data"
    }
   ],
   "source": [
    "from IPython.display import display, HTML\n",
    "display(HTML(\"<style>.container { width:100% !important; }</style>\"))"
   ]
  },
  {
   "cell_type": "code",
   "execution_count": 143,
   "id": "20bfbe86",
   "metadata": {},
   "outputs": [
    {
     "data": {
      "text/plain": [
       "'/home/lehl/development/QueryOptDeepDive'"
      ]
     },
     "execution_count": 143,
     "metadata": {},
     "output_type": "execute_result"
    }
   ],
   "source": [
    "import os\n",
    "import sys\n",
    "\n",
    "if os.getcwd().split('/')[-1] == 'notebooks':\n",
    "    os.chdir('../')\n",
    "os.getcwd()"
   ]
  },
  {
   "cell_type": "code",
   "execution_count": 144,
   "id": "70a96f95",
   "metadata": {},
   "outputs": [],
   "source": [
    "import os\n",
    "import re\n",
    "import datetime\n",
    "import json\n",
    "\n",
    "import pandas as pd\n",
    "import numpy as np\n",
    "import matplotlib.pyplot as plt"
   ]
  },
  {
   "cell_type": "code",
   "execution_count": 145,
   "id": "fec98385",
   "metadata": {},
   "outputs": [
    {
     "data": {
      "text/plain": [
       "(40, 40)"
      ]
     },
     "execution_count": 145,
     "metadata": {},
     "output_type": "execute_result"
    }
   ],
   "source": [
    "id2aliasname = {\n",
    "    0: 'start', 1: 'chn', 2: 'ci', 3: 'cn', 4: 'ct', 5: 'mc', 6: 'rt', 7: 't', 8: 'k', 9: 'lt',\n",
    "    10: 'mk', 11: 'ml', 12: 'it1', 13: 'it2', 14: 'mi', 15: 'mi_idx', 16: 'it', 17: 'kt', 18: 'miidx', 19: 'at',\n",
    "    20: 'an', 21: 'n', 22: 'cc', 23: 'cct1', 24: 'cct2', 25: 'it3', 26: 'pi', 27: 't1', 28: 't2', 29: 'cn1',\n",
    "    30: 'cn2', 31: 'kt1', 32: 'kt2', 33: 'mc1', 34: 'mc2', 35: 'mi_idx1', 36: 'mi_idx2', 37: 'an1', 38: 'n1', 39: 'a1'\n",
    "}\n",
    "\n",
    "aliasname2id = {\n",
    "    'kt1': 31, 'chn': 1, 'cn1': 29, 'mi_idx2': 36, 'cct1': 23, 'n': 21, 'a1': 39, 'kt2': 32, 'miidx': 18, 'it': 16,\n",
    "    'mi_idx1': 35, 'kt': 17, 'lt': 9, 'ci': 2, 't': 7, 'k': 8, 'start': 0, 'ml': 11, 'ct': 4, 't2': 28, 'rt': 6,\n",
    "    'it2': 13, 'an1': 37, 'at': 19, 'mc2': 34, 'pi': 26, 'mc': 5, 'mi_idx': 15, 'n1': 38, 'cn2': 30, 'mi': 14,\n",
    "    'it1': 12, 'cc': 22, 'cct2': 24, 'an': 20, 'mk': 10, 'cn': 3, 'it3': 25, 't1': 27, 'mc1': 33\n",
    "}\n",
    "\n",
    "len(id2aliasname.keys()), len(aliasname2id.keys())"
   ]
  },
  {
   "cell_type": "code",
   "execution_count": 146,
   "id": "def26945",
   "metadata": {},
   "outputs": [
    {
     "name": "stdout",
     "output_type": "stream",
     "text": [
      "15b.sql\n",
      " aka_title AS at,\n",
      "     company_name AS cn,\n",
      "     company_type AS ct,\n",
      "     info_type AS it1,\n",
      "     keyword AS k,\n",
      "     movie_companies AS mc,\n",
      "     movie_info AS mi,\n",
      "     movie_keyword AS mk,\n",
      "     title AS t\n",
      "\n",
      "15d.sql\n",
      " aka_title AS at,\n",
      "     company_name AS cn,\n",
      "     company_type AS ct,\n",
      "     info_type AS it1,\n",
      "     keyword AS k,\n",
      "     movie_companies AS mc,\n",
      "     movie_info AS mi,\n",
      "     movie_keyword AS mk,\n",
      "     title AS t\n",
      "\n",
      "15a.sql\n",
      " aka_title AS aka_t,\n",
      "     company_name AS cn,\n",
      "     company_type AS ct,\n",
      "     info_type AS it1,\n",
      "     keyword AS k,\n",
      "     movie_companies AS mc,\n",
      "     movie_info AS mi,\n",
      "     movie_keyword AS mk,\n",
      "     title AS t\n",
      "\n",
      "15c.sql\n",
      " aka_title AS at,\n",
      "     company_name AS cn,\n",
      "     company_type AS ct,\n",
      "     info_type AS it1,\n",
      "     keyword AS k,\n",
      "     movie_companies AS mc,\n",
      "     movie_info AS mi,\n",
      "     movie_keyword AS mk,\n",
      "     title AS t\n",
      "\n"
     ]
    },
    {
     "data": {
      "text/plain": [
       "{'aka_title AS aka_t'}"
      ]
     },
     "execution_count": 146,
     "metadata": {},
     "output_type": "execute_result"
    }
   ],
   "source": [
    "tmp = set()\n",
    "\n",
    "for query_file in all_queries:\n",
    "    \n",
    "    with open(os.path.join('balsa', 'queries', 'join-order-benchmark', query_file), 'r') as f:\n",
    "        query = ''.join(f.readlines())\n",
    "    \n",
    "    query = query.split('FROM')[1].split('WHERE')[0]\n",
    "    conds = query.split(',')\n",
    "    \n",
    "    for cond in conds:\n",
    "        cond = cond.strip()\n",
    "        table_name, table_alias = cond.split(' AS ')\n",
    "        \n",
    "        if table_alias not in aliasname2id.keys():\n",
    "            tmp.add(cond)\n",
    "            \n",
    "    if '15' in query_file:\n",
    "        print(query_file)\n",
    "        print(query)\n",
    "\n",
    "tmp"
   ]
  },
  {
   "cell_type": "code",
   "execution_count": 147,
   "id": "732266f7",
   "metadata": {},
   "outputs": [],
   "source": [
    "def query_file_to_ident(file_name):\n",
    "    ident = file_name.split('.sql')[0]\n",
    "    return f\"{ident[:-1].zfill(2)}{ident[-1]}\"\n",
    "\n",
    "QUERY_TIMEOUT = 2 * 3 * 60 * 1000"
   ]
  },
  {
   "cell_type": "code",
   "execution_count": 148,
   "id": "d6a75e09",
   "metadata": {},
   "outputs": [],
   "source": [
    "\"\"\"\n",
    "TEST_QUERIES = dict()\n",
    "\n",
    "for folder in os.listdir('bao/queries'):\n",
    "    if not folder.startswith('job__'):\n",
    "        continue\n",
    "        \n",
    "    key = folder.split('job__')[1]\n",
    "    \n",
    "    queries = os.listdir(os.path.join('bao', 'queries', folder, 'test'))\n",
    "    queries = sorted([query_file_to_ident(x) for x in queries])\n",
    "\n",
    "    TEST_QUERIES[key] = queries\n",
    "    \n",
    "for k in sorted(TEST_QUERIES.keys()):\n",
    "    print(k)\n",
    "    print(TEST_QUERIES[k])\n",
    "    print('---' * 30)\n",
    "\"\"\"    \n",
    "\n",
    "TEST_QUERIES = {\n",
    "    'base_query_split_1': ['02a', '02b', '02c', '02d', '07a', '07b', '07c', '15a', '15b', '15c', '15d', '24a', '24b', '25a', '25b', '25c', '31a', '31b', '31c'],\n",
    "    'base_query_split_2': ['13a', '13b', '13c', '13d', '15a', '15b', '15c', '15d', '20a', '20b', '20c', '26a', '26b', '26c', '29a', '29b', '29c', '30a', '30b', '30c', '33a', '33b', '33c'],\n",
    "    'base_query_split_3': ['01a', '01b', '01c', '01d', '05a', '05b', '05c', '12a', '12b', '12c', '17a', '17b', '17c', '17d', '17e', '17f', '22a', '22b', '22c', '22d', '27a', '27b', '27c', '28a', '28b', '28c'],\n",
    "    'leave_one_out_split_1': ['01c', '02a', '03b', '04a', '05a', '06b', '07c', '08c', '09c', '10b', '11b', '12c', '13b', '14a', '15b', '16c', '17c', '18b', '19a', '20c', '21c', '22b', '23b', '24a', '25a', '26c', '27c', '28a', '29b', '30a', '31b', '32b', '33c'],\n",
    "    'leave_one_out_split_2': ['01d', '02d', '03a', '04b', '05c', '06d', '07a', '08c', '09c', '10a', '11a', '12a', '13d', '14b', '15b', '16a', '17f', '18a', '19d', '20a', '21b', '22c', '23b', '24b', '25a', '26a', '27b', '28c', '29a', '30b', '31a', '32b', '33b'],\n",
    "    'leave_one_out_split_3': ['01c', '02d', '03b', '04a', '05c', '06d', '07b', '08a', '09a', '10c', '11d', '12a', '13a', '14b', '15a', '16d', '17b', '18b', '19d', '20b', '21a', '22a', '23b', '24a', '25b', '26a', '27a', '28b', '29c', '30a', '31a', '32a', '33c'],\n",
    "    'random_split_1': ['01c', '02c', '04b', '04c', '05c', '06a', '06c', '06e', '08b', '08c', '09c', '11d', '15a', '17b', '17e', '18b', '20a', '21a', '25c', '28b', '32b', '33a'],\n",
    "    'random_split_2': ['01a', '04c', '05c', '06c', '06d', '07b', '08c', '10a', '11a', '11d', '13c', '13d', '15d', '16a', '17b', '19a', '20a', '22b', '25b', '29b', '31a', '32b'],\n",
    "    'random_split_3': ['02a', '03b', '06d', '09b', '10b', '11b', '11c', '13c', '13d', '16b', '18c', '19c', '21c', '22a', '22d', '26a', '26b', '27c', '28a', '28c', '30a', '33c'],\n",
    "}"
   ]
  },
  {
   "cell_type": "code",
   "execution_count": 149,
   "id": "9014e04a",
   "metadata": {},
   "outputs": [
    {
     "name": "stdout",
     "output_type": "stream",
     "text": [
      "['22b.sql', '33a.sql', '31c.sql', '14c.sql', '16d.sql', '17d.sql', '17c.sql', '19b.sql', '1d.sql', '10b.sql', '5b.sql', '25b.sql', '30c.sql', '2a.sql', '20b.sql', '22d.sql', '21a.sql', '24a.sql', '1a.sql', '21c.sql', '12b.sql', '21b.sql', '7a.sql', '27b.sql', '23a.sql', '18b.sql', '11b.sql', '8b.sql', '10c.sql', '12a.sql', '32b.sql', '7b.sql', '6b.sql', '8a.sql', '26c.sql', '9d.sql', '22a.sql', '1b.sql', '3b.sql', '6d.sql', '25a.sql', '33c.sql', '9c.sql', '6e.sql', '19c.sql', '6a.sql', '2c.sql', '12c.sql', '3c.sql', '27c.sql', '8c.sql', '11a.sql', '29a.sql', '1c.sql', '9a.sql', '26a.sql', '2b.sql', '18c.sql', '5c.sql', '25c.sql', '33b.sql', '13b.sql', '11d.sql', '4a.sql', '6f.sql', '28a.sql', '18a.sql', '22c.sql', '24b.sql', '15b.sql', '20a.sql', '16c.sql', '32a.sql', '4c.sql', '27a.sql', '19a.sql', '23c.sql', '20c.sql', '8d.sql', '10a.sql', '3a.sql', '17a.sql', '6c.sql', '17b.sql', '31b.sql', '28c.sql', '31a.sql', '29b.sql', '13a.sql', '29c.sql', '5a.sql', '11c.sql', '9b.sql', '28b.sql', '15d.sql', '13d.sql', '16b.sql', '17e.sql', '14a.sql', '13c.sql', '15a.sql', '17f.sql', '7c.sql', '23b.sql', '26b.sql', '19d.sql', '14b.sql', '30b.sql', '4b.sql', '2d.sql', '16a.sql', '15c.sql', '30a.sql']\n"
     ]
    }
   ],
   "source": [
    "all_queries = os.listdir('balsa/queries/join-order-benchmark')\n",
    "all_queries = [q for q in all_queries if q.endswith('sql')]\n",
    "print(all_queries)"
   ]
  },
  {
   "cell_type": "code",
   "execution_count": 154,
   "id": "a57085e7",
   "metadata": {},
   "outputs": [],
   "source": [
    "def build_workload(queries):\n",
    "    tmp = []\n",
    "\n",
    "    for q in queries:\n",
    "        query_ident = query_file_to_ident(q)\n",
    "\n",
    "        with open(os.path.join('balsa', 'queries', 'join-order-benchmark', q), 'r') as f:\n",
    "            lines = f.readlines()\n",
    "\n",
    "        sql = ''.join(lines)\n",
    "        sql = sql.split(';')[0] + ';'\n",
    "        \n",
    "        if 'aka_t' in sql:\n",
    "            sql = sql.replace('aka_title AS aka_t', 'aka_title AS at')\n",
    "            sql = sql.replace('aka_t.', 'at.')\n",
    "            \n",
    "        tmp.append([sql, query_ident, [-1, False]])\n",
    "        \n",
    "    return tmp"
   ]
  },
  {
   "cell_type": "code",
   "execution_count": 157,
   "id": "d157f2e1",
   "metadata": {
    "scrolled": false
   },
   "outputs": [
    {
     "name": "stdout",
     "output_type": "stream",
     "text": [
      "WORKLOAD: base_query_split_1\n",
      "WORKLOAD: base_query_split_2\n",
      "WORKLOAD: base_query_split_3\n",
      "WORKLOAD: leave_one_out_split_1\n",
      "WORKLOAD: leave_one_out_split_2\n",
      "WORKLOAD: leave_one_out_split_3\n",
      "WORKLOAD: random_split_1\n",
      "WORKLOAD: random_split_2\n",
      "WORKLOAD: random_split_3\n"
     ]
    }
   ],
   "source": [
    "for key in TEST_QUERIES.keys():\n",
    "    print(f'WORKLOAD: {key}')\n",
    "    #os.remove(f\"{base_path}__train.json\")\n",
    "    #os.remove(f\"{base_path}__test.json\")\n",
    "    \n",
    "    test_queries = []\n",
    "    for q in TEST_QUERIES[key]:\n",
    "        ident = f\"{str(int(q[:2]))}{q[2]}.sql\"\n",
    "        test_queries.append(ident)\n",
    "    \n",
    "    train_queries = []\n",
    "    for q in sorted(all_queries):\n",
    "        if q not in test_queries:\n",
    "            train_queries.append(q)\n",
    "    \n",
    "    base_path = f\"hybrid_qo/workload/JOB__{key}\"\n",
    "    \n",
    "    train_wl = build_workload(train_queries)\n",
    "    with open(f\"{base_path}__train.json\", 'w') as f:\n",
    "        json.dump(train_wl, f)\n",
    "    \n",
    "    test_wl = build_workload(test_queries)\n",
    "    with open(f\"{base_path}__test.json\", 'w') as f:\n",
    "        json.dump(test_wl, f)\n",
    "    \n"
   ]
  },
  {
   "cell_type": "code",
   "execution_count": 158,
   "id": "676a887b",
   "metadata": {},
   "outputs": [
    {
     "data": {
      "text/plain": [
       "['JOB__base_query_split_1__test.json',\n",
       " 'JOB__base_query_split_1__train.json',\n",
       " 'JOB__base_query_split_2__test.json',\n",
       " 'JOB__base_query_split_2__train.json',\n",
       " 'JOB__base_query_split_3__test.json',\n",
       " 'JOB__base_query_split_3__train.json',\n",
       " 'JOB__leave_one_out_split_1__test.json',\n",
       " 'JOB__leave_one_out_split_1__train.json',\n",
       " 'JOB__leave_one_out_split_2__test.json',\n",
       " 'JOB__leave_one_out_split_2__train.json',\n",
       " 'JOB__leave_one_out_split_3__test.json',\n",
       " 'JOB__leave_one_out_split_3__train.json',\n",
       " 'JOB__random_split_1__test.json',\n",
       " 'JOB__random_split_1__train.json',\n",
       " 'JOB__random_split_2__test.json',\n",
       " 'JOB__random_split_2__train.json',\n",
       " 'JOB__random_split_3__test.json',\n",
       " 'JOB__random_split_3__train.json',\n",
       " 'JOB_dynamic.json',\n",
       " 'JOB_static.json']"
      ]
     },
     "execution_count": 158,
     "metadata": {},
     "output_type": "execute_result"
    }
   ],
   "source": [
    "sorted(os.listdir('hybrid_qo/workload'))"
   ]
  },
  {
   "cell_type": "code",
   "execution_count": null,
   "id": "e1719753",
   "metadata": {},
   "outputs": [],
   "source": []
  }
 ],
 "metadata": {
  "kernelspec": {
   "display_name": "GQML_Env",
   "language": "python",
   "name": "gqml_venv"
  },
  "language_info": {
   "codemirror_mode": {
    "name": "ipython",
    "version": 3
   },
   "file_extension": ".py",
   "mimetype": "text/x-python",
   "name": "python",
   "nbconvert_exporter": "python",
   "pygments_lexer": "ipython3",
   "version": "3.10.12"
  }
 },
 "nbformat": 4,
 "nbformat_minor": 5
}
