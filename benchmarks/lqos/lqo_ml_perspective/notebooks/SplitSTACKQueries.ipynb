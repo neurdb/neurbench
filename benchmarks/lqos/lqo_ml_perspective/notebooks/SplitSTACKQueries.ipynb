{
 "cells": [
  {
   "cell_type": "code",
   "execution_count": 17,
   "metadata": {},
   "outputs": [
    {
     "data": {
      "text/plain": [
       "'/home/claude/development/QueryOptDeepDive'"
      ]
     },
     "execution_count": 17,
     "metadata": {},
     "output_type": "execute_result"
    }
   ],
   "source": [
    "import os\n",
    "import sys\n",
    "\n",
    "if os.getcwd().split('/')[-1] == 'notebooks':\n",
    "    os.chdir('../')\n",
    "os.getcwd()"
   ]
  },
  {
   "cell_type": "code",
   "execution_count": 18,
   "metadata": {},
   "outputs": [],
   "source": [
    "import pandas as pd\n",
    "import matplotlib.pyplot as plt\n",
    "import numpy as np\n",
    "import string\n",
    "from mo_sql_parsing import parse"
   ]
  },
  {
   "cell_type": "code",
   "execution_count": 19,
   "metadata": {},
   "outputs": [],
   "source": [
    "base_dirs = dict()\n",
    "\n",
    "for root, dirs, files in os.walk('data/stack/so_queries'):\n",
    "    for file in files:\n",
    "        file_path = os.path.join(root, file)\n",
    "        \n",
    "        split_path = file_path.split('/')\n",
    "        base_query = split_path[-2]\n",
    "\n",
    "        if base_query not in base_dirs.keys():\n",
    "            base_dirs[base_query] = list()\n",
    "\n",
    "        base_dirs[base_query].append(file_path)\n",
    "        "
   ]
  },
  {
   "cell_type": "code",
   "execution_count": 24,
   "metadata": {},
   "outputs": [
    {
     "name": "stdout",
     "output_type": "stream",
     "text": [
      "q1__q1-067.sql\n",
      "q11__c1ae2a992cde4ea2c4922d852df22043254b4f84.sql\n",
      "q12__55de941e8497cfeeb93d3f8f2d7a18489e0e6c32.sql\n",
      "q13__a3d03772d880754fc4e150d82908757477ae2186.sql\n",
      "q14__5dbc1d1f1a0467ad0086e6cb337144387a37533a.sql\n",
      "q15__3e37e62655ceaebc14e79edad518e5710752f51d.sql\n",
      "q16__ea9efde510227beb8d624b8c4a6941b9d5e6e637.sql\n",
      "q2__q2-035.sql\n",
      "q3__q3-068.sql\n",
      "q4__q4-002.sql\n",
      "q5__q5-052.sql\n",
      "q6__q6-067.sql\n",
      "q7__q7-034.sql\n",
      "q8__q8-096.sql\n",
      "# Queries: 112\n"
     ]
    }
   ],
   "source": [
    "queries = {}\n",
    "\n",
    "for file in os.listdir('bao/queries/stack'):\n",
    "    base_query, query_name = file.split('__')\n",
    "    #print(base_query, '\\t', query_name)\n",
    "\n",
    "    if base_query in ['q9', 'q10']:\n",
    "        continue\n",
    "\n",
    "    if base_query not in queries.keys():\n",
    "        queries[base_query] = list()\n",
    "\n",
    "    queries[base_query].append((base_query, query_name))\n",
    "\n",
    "all_queries = []\n",
    "for base_query in sorted(queries.keys()):\n",
    "    print('__'.join(queries[base_query][0]))\n",
    "\n",
    "    for x in queries[base_query]:\n",
    "        all_queries.append(x)\n",
    "\n",
    "print(f\"# Queries: {len(all_queries)}\")"
   ]
  },
  {
   "cell_type": "code",
   "execution_count": 25,
   "metadata": {},
   "outputs": [],
   "source": [
    "for q_dir, q_file in all_queries:\n",
    "    file_path = f'data/stack/so_queries/{q_dir}/{q_file.replace(\".sql.sql\",\".sql\")}'\n",
    "    with open(file_path, 'r') as f:\n",
    "        lines = f.readlines()\n",
    "    sql = ''.join(lines)\n",
    "\n",
    "    query_ident = '__'.join([file_path.split('/')[-2], file_path.split('/')[-1]])\n",
    "\n",
    "    os.makedirs('bao/queries/stack', exist_ok=True)\n",
    "    file_path = f\"bao/queries/stack/{query_ident}\"\n",
    "    with open(file_path, 'w') as f:\n",
    "        f.write(sql)\n",
    "    \n",
    "    os.makedirs('balsa/queries/stack', exist_ok=True)\n",
    "    file_path = f\"balsa/queries/stack/{query_ident}\"\n",
    "    with open(file_path, 'w') as f:\n",
    "        f.write(sql)\n",
    "    "
   ]
  },
  {
   "cell_type": "markdown",
   "metadata": {},
   "source": [
    "### Random Sampling"
   ]
  },
  {
   "cell_type": "code",
   "execution_count": 27,
   "metadata": {},
   "outputs": [
    {
     "data": {
      "text/html": [
       "<div>\n",
       "<style scoped>\n",
       "    .dataframe tbody tr th:only-of-type {\n",
       "        vertical-align: middle;\n",
       "    }\n",
       "\n",
       "    .dataframe tbody tr th {\n",
       "        vertical-align: top;\n",
       "    }\n",
       "\n",
       "    .dataframe thead th {\n",
       "        text-align: right;\n",
       "    }\n",
       "</style>\n",
       "<table border=\"1\" class=\"dataframe\">\n",
       "  <thead>\n",
       "    <tr style=\"text-align: right;\">\n",
       "      <th></th>\n",
       "      <th>query_ident</th>\n",
       "      <th>query_template</th>\n",
       "      <th>full_query_file_name</th>\n",
       "      <th>sql</th>\n",
       "      <th>file_path</th>\n",
       "    </tr>\n",
       "  </thead>\n",
       "  <tbody>\n",
       "    <tr>\n",
       "      <th>0</th>\n",
       "      <td>q1-009.sql</td>\n",
       "      <td>q1</td>\n",
       "      <td>q1__q1-009.sql</td>\n",
       "      <td>\\nselect count(*) from tag, site, question, ta...</td>\n",
       "      <td>data/stack/so_queries/q1/q1-009.sql</td>\n",
       "    </tr>\n",
       "    <tr>\n",
       "      <th>1</th>\n",
       "      <td>q1-031.sql</td>\n",
       "      <td>q1</td>\n",
       "      <td>q1__q1-031.sql</td>\n",
       "      <td>\\nselect count(*) from tag, site, question, ta...</td>\n",
       "      <td>data/stack/so_queries/q1/q1-031.sql</td>\n",
       "    </tr>\n",
       "    <tr>\n",
       "      <th>2</th>\n",
       "      <td>q1-035.sql</td>\n",
       "      <td>q1</td>\n",
       "      <td>q1__q1-035.sql</td>\n",
       "      <td>\\nselect count(*) from tag, site, question, ta...</td>\n",
       "      <td>data/stack/so_queries/q1/q1-035.sql</td>\n",
       "    </tr>\n",
       "    <tr>\n",
       "      <th>3</th>\n",
       "      <td>q1-067.sql</td>\n",
       "      <td>q1</td>\n",
       "      <td>q1__q1-067.sql</td>\n",
       "      <td>\\nselect count(*) from tag, site, question, ta...</td>\n",
       "      <td>data/stack/so_queries/q1/q1-067.sql</td>\n",
       "    </tr>\n",
       "    <tr>\n",
       "      <th>4</th>\n",
       "      <td>q1-075.sql</td>\n",
       "      <td>q1</td>\n",
       "      <td>q1__q1-075.sql</td>\n",
       "      <td>\\nselect count(*) from tag, site, question, ta...</td>\n",
       "      <td>data/stack/so_queries/q1/q1-075.sql</td>\n",
       "    </tr>\n",
       "    <tr>\n",
       "      <th>...</th>\n",
       "      <td>...</td>\n",
       "      <td>...</td>\n",
       "      <td>...</td>\n",
       "      <td>...</td>\n",
       "      <td>...</td>\n",
       "    </tr>\n",
       "    <tr>\n",
       "      <th>107</th>\n",
       "      <td>q8-062.sql</td>\n",
       "      <td>q8</td>\n",
       "      <td>q8__q8-062.sql</td>\n",
       "      <td>\\nselect count(distinct q1.id) from\\nsite, pos...</td>\n",
       "      <td>data/stack/so_queries/q8/q8-062.sql</td>\n",
       "    </tr>\n",
       "    <tr>\n",
       "      <th>108</th>\n",
       "      <td>q8-065.sql</td>\n",
       "      <td>q8</td>\n",
       "      <td>q8__q8-065.sql</td>\n",
       "      <td>\\nselect count(distinct q1.id) from\\nsite, pos...</td>\n",
       "      <td>data/stack/so_queries/q8/q8-065.sql</td>\n",
       "    </tr>\n",
       "    <tr>\n",
       "      <th>109</th>\n",
       "      <td>q8-074.sql</td>\n",
       "      <td>q8</td>\n",
       "      <td>q8__q8-074.sql</td>\n",
       "      <td>\\nselect count(distinct q1.id) from\\nsite, pos...</td>\n",
       "      <td>data/stack/so_queries/q8/q8-074.sql</td>\n",
       "    </tr>\n",
       "    <tr>\n",
       "      <th>110</th>\n",
       "      <td>q8-076.sql</td>\n",
       "      <td>q8</td>\n",
       "      <td>q8__q8-076.sql</td>\n",
       "      <td>\\nselect count(distinct q1.id) from\\nsite, pos...</td>\n",
       "      <td>data/stack/so_queries/q8/q8-076.sql</td>\n",
       "    </tr>\n",
       "    <tr>\n",
       "      <th>111</th>\n",
       "      <td>q8-096.sql</td>\n",
       "      <td>q8</td>\n",
       "      <td>q8__q8-096.sql</td>\n",
       "      <td>\\nselect count(distinct q1.id) from\\nsite, pos...</td>\n",
       "      <td>data/stack/so_queries/q8/q8-096.sql</td>\n",
       "    </tr>\n",
       "  </tbody>\n",
       "</table>\n",
       "<p>112 rows × 5 columns</p>\n",
       "</div>"
      ],
      "text/plain": [
       "    query_ident query_template full_query_file_name  \\\n",
       "0    q1-009.sql             q1       q1__q1-009.sql   \n",
       "1    q1-031.sql             q1       q1__q1-031.sql   \n",
       "2    q1-035.sql             q1       q1__q1-035.sql   \n",
       "3    q1-067.sql             q1       q1__q1-067.sql   \n",
       "4    q1-075.sql             q1       q1__q1-075.sql   \n",
       "..          ...            ...                  ...   \n",
       "107  q8-062.sql             q8       q8__q8-062.sql   \n",
       "108  q8-065.sql             q8       q8__q8-065.sql   \n",
       "109  q8-074.sql             q8       q8__q8-074.sql   \n",
       "110  q8-076.sql             q8       q8__q8-076.sql   \n",
       "111  q8-096.sql             q8       q8__q8-096.sql   \n",
       "\n",
       "                                                   sql  \\\n",
       "0    \\nselect count(*) from tag, site, question, ta...   \n",
       "1    \\nselect count(*) from tag, site, question, ta...   \n",
       "2    \\nselect count(*) from tag, site, question, ta...   \n",
       "3    \\nselect count(*) from tag, site, question, ta...   \n",
       "4    \\nselect count(*) from tag, site, question, ta...   \n",
       "..                                                 ...   \n",
       "107  \\nselect count(distinct q1.id) from\\nsite, pos...   \n",
       "108  \\nselect count(distinct q1.id) from\\nsite, pos...   \n",
       "109  \\nselect count(distinct q1.id) from\\nsite, pos...   \n",
       "110  \\nselect count(distinct q1.id) from\\nsite, pos...   \n",
       "111  \\nselect count(distinct q1.id) from\\nsite, pos...   \n",
       "\n",
       "                               file_path  \n",
       "0    data/stack/so_queries/q1/q1-009.sql  \n",
       "1    data/stack/so_queries/q1/q1-031.sql  \n",
       "2    data/stack/so_queries/q1/q1-035.sql  \n",
       "3    data/stack/so_queries/q1/q1-067.sql  \n",
       "4    data/stack/so_queries/q1/q1-075.sql  \n",
       "..                                   ...  \n",
       "107  data/stack/so_queries/q8/q8-062.sql  \n",
       "108  data/stack/so_queries/q8/q8-065.sql  \n",
       "109  data/stack/so_queries/q8/q8-074.sql  \n",
       "110  data/stack/so_queries/q8/q8-076.sql  \n",
       "111  data/stack/so_queries/q8/q8-096.sql  \n",
       "\n",
       "[112 rows x 5 columns]"
      ]
     },
     "execution_count": 27,
     "metadata": {},
     "output_type": "execute_result"
    }
   ],
   "source": [
    "tmp = []\n",
    "\n",
    "for q_dir, q_ident in all_queries:\n",
    "    file_path = f'data/stack/so_queries/{q_dir}/{q_ident.replace(\".sql.sql\",\".sql\")}'\n",
    "    with open(file_path, 'r') as f:\n",
    "        lines = f.readlines()\n",
    "    sql = ''.join(lines)\n",
    "    \n",
    "    tmp.append({\n",
    "        'query_ident': q_ident,\n",
    "        'query_template': q_dir,\n",
    "        'full_query_file_name': f\"{q_dir}__{q_ident}\",\n",
    "        'sql': sql,\n",
    "        'file_path': file_path\n",
    "    })\n",
    "\n",
    "df = pd.DataFrame(tmp).sort_values(['query_template', 'query_ident']).reset_index(drop=True)\n",
    "df"
   ]
  },
  {
   "cell_type": "code",
   "execution_count": 32,
   "metadata": {},
   "outputs": [],
   "source": [
    "def save_queries(df: pd.DataFrame, base_target_dir: str, test: bool = False):\n",
    "    target_dir = os.path.join(base_target_dir, ('test' if test else 'train'))\n",
    "    os.makedirs(target_dir, exist_ok=True)\n",
    "\n",
    "    for i, row in df.iterrows():\n",
    "        sql = row['sql']\n",
    "        file_name = row['full_query_file_name']\n",
    "\n",
    "        file_path = os.path.join(target_dir, file_name)\n",
    "        with open(file_path, 'w') as f:\n",
    "            f.writelines(sql)\n",
    "\n",
    "    if test:\n",
    "        print()\n",
    "        print(target_dir)\n",
    "        print(sorted(df['full_query_file_name'].tolist()))\n",
    "    "
   ]
  },
  {
   "cell_type": "code",
   "execution_count": 33,
   "metadata": {},
   "outputs": [
    {
     "name": "stdout",
     "output_type": "stream",
     "text": [
      "\n",
      "bao/queries/stack__random_split_1/test\n",
      "['q11__6c5cba419c5b7b02d431aeb5e766d775d812967a.sql', 'q11__c1ae2a992cde4ea2c4922d852df22043254b4f84.sql', 'q12__55de941e8497cfeeb93d3f8f2d7a18489e0e6c32.sql', 'q14__63c0776f1727638316b966fe748df7cc585a335b.sql', 'q14__74fd1af68d23f0690e3d0fc80bd9b42fa90a7e94.sql', 'q14__97e68ad5c2ced4c182366b3118a1f5f69b423fa6.sql', 'q14__b49361f85785200ed6ec1f2eec357b7598c9e564.sql', 'q15__3e37e62655ceaebc14e79edad518e5710752f51d.sql', 'q15__543ab3f730e494a69e3d15e59675f491544cb15d.sql', 'q15__b8ddf65b0c0c7867a9b560e571d457fec410715c.sql', 'q15__d5546c01928a687eb1f54e9f8eb4e1aff68fc381.sql', 'q16__1e863562a79ca1f7754c759ebab6a2addda0bde8.sql', 'q16__ea9efde510227beb8d624b8c4a6941b9d5e6e637.sql', 'q16__ed2ffeaefcf5ad8bbadc713ccc766541e12080aa.sql', 'q1__q1-031.sql', 'q1__q1-035.sql', 'q4__q4-042.sql', 'q4__q4-064.sql', 'q4__q4-089.sql', 'q5__q5-032.sql', 'q6__q6-060.sql', 'q6__q6-064.sql', 'q7__q7-099.sql']\n"
     ]
    },
    {
     "data": {
      "text/plain": [
       "\"\\nrandom_test_2 = df.sample(n=n_test__random, replace=False, random_state=20).sort_index()\\nrandom_train_2 = df[~df.index.isin(random_test_2.index)]\\nsave_queries(random_train_2, 'bao/queries/stack__random_split_2', test=False)\\nsave_queries(random_test_2, 'bao/queries/stack__random_split_2', test=True)\\n\\nrandom_test_3 = df.sample(n=n_test__random, replace=False, random_state=30).sort_index()\\nrandom_train_3 = df[~df.index.isin(random_test_3.index)]\\nsave_queries(random_train_3, 'bao/queries/stack__random_split_3', test=False)\\nsave_queries(random_test_3, 'bao/queries/stack__random_split_3', test=True)\\n\""
      ]
     },
     "execution_count": 33,
     "metadata": {},
     "output_type": "execute_result"
    }
   ],
   "source": [
    "n_test__random = int(df.shape[0] * 0.2) + 1\n",
    "\n",
    "random_test_1 = df.sample(n=n_test__random, replace=False, random_state=10).sort_index()\n",
    "random_train_1 = df[~df.index.isin(random_test_1.index)]\n",
    "save_queries(random_train_1, 'bao/queries/stack__random_split_1', test=False)\n",
    "save_queries(random_test_1, 'bao/queries/stack__random_split_1', test=True)\n",
    "\n",
    "\"\"\"\n",
    "random_test_2 = df.sample(n=n_test__random, replace=False, random_state=20).sort_index()\n",
    "random_train_2 = df[~df.index.isin(random_test_2.index)]\n",
    "save_queries(random_train_2, 'bao/queries/stack__random_split_2', test=False)\n",
    "save_queries(random_test_2, 'bao/queries/stack__random_split_2', test=True)\n",
    "\n",
    "random_test_3 = df.sample(n=n_test__random, replace=False, random_state=30).sort_index()\n",
    "random_train_3 = df[~df.index.isin(random_test_3.index)]\n",
    "save_queries(random_train_3, 'bao/queries/stack__random_split_3', test=False)\n",
    "save_queries(random_test_3, 'bao/queries/stack__random_split_3', test=True)\n",
    "\"\"\""
   ]
  },
  {
   "cell_type": "markdown",
   "metadata": {},
   "source": [
    "### Leave One Out Sampling"
   ]
  },
  {
   "cell_type": "code",
   "execution_count": 34,
   "metadata": {},
   "outputs": [
    {
     "name": "stdout",
     "output_type": "stream",
     "text": [
      "\n",
      "bao/queries/stack__leave_one_out_split_1/test\n",
      "['q11__6c5cba419c5b7b02d431aeb5e766d775d812967a.sql', 'q12__547c6bf1994c9b2ba82a7ae32f4b051beabf46fd.sql', 'q13__935e2051bf80eeafe91aeb6eb719b6b64b9592c2.sql', 'q14__5e4835cd72aaa2d7be15b2a5ffa2e66156b3656f.sql', 'q15__543ab3f730e494a69e3d15e59675f491544cb15d.sql', 'q16__b1a96cd48ba297dd93bce73c27b491069ad7449f.sql', 'q1__q1-035.sql', 'q2__q2-032.sql', 'q3__q3-043.sql', 'q4__q4-041.sql', 'q5__q5-041.sql', 'q6__q6-060.sql', 'q7__q7-047.sql', 'q8__q8-046.sql']\n"
     ]
    },
    {
     "data": {
      "text/plain": [
       "\"\\nloo2_train, loo2_test = split_loo(df, random_state=20)\\nsave_queries(loo2_train, 'bao/queries/stack__leave_one_out_split_2', test=False)\\nsave_queries(loo2_test, 'bao/queries/stack__leave_one_out_split_2', test=True)\\n\\nloo3_train, loo3_test = split_loo(df, random_state=30)\\nsave_queries(loo3_train, 'bao/queries/stack__leave_one_out_split_3', test=False)\\nsave_queries(loo3_test, 'bao/queries/stack__leave_one_out_split_3', test=True)\\n\""
      ]
     },
     "execution_count": 34,
     "metadata": {},
     "output_type": "execute_result"
    }
   ],
   "source": [
    "def split_loo(df, random_state):\n",
    "    test_idx = []\n",
    "    for query_template, df_group in df.groupby(['query_template']):\n",
    "        test_idx.append(df_group.sample(n=1, replace=False, random_state=random_state).iloc[0].name)\n",
    "\n",
    "    return df[~df.index.isin(test_idx)], df[df.index.isin(test_idx)]\n",
    "\n",
    "loo1_train, loo1_test = split_loo(df, random_state=10)\n",
    "save_queries(loo1_train, 'bao/queries/stack__leave_one_out_split_1', test=False)\n",
    "save_queries(loo1_test, 'bao/queries/stack__leave_one_out_split_1', test=True)\n",
    "\n",
    "\"\"\"\n",
    "loo2_train, loo2_test = split_loo(df, random_state=20)\n",
    "save_queries(loo2_train, 'bao/queries/stack__leave_one_out_split_2', test=False)\n",
    "save_queries(loo2_test, 'bao/queries/stack__leave_one_out_split_2', test=True)\n",
    "\n",
    "loo3_train, loo3_test = split_loo(df, random_state=30)\n",
    "save_queries(loo3_train, 'bao/queries/stack__leave_one_out_split_3', test=False)\n",
    "save_queries(loo3_test, 'bao/queries/stack__leave_one_out_split_3', test=True)\n",
    "\"\"\""
   ]
  },
  {
   "cell_type": "markdown",
   "metadata": {},
   "source": [
    "### Base Query Sampling"
   ]
  },
  {
   "cell_type": "code",
   "execution_count": 35,
   "metadata": {},
   "outputs": [
    {
     "name": "stdout",
     "output_type": "stream",
     "text": [
      "\n",
      "bao/queries/stack__base_query_split_1/test\n",
      "['q13__13ad1b8c6bea4fda1892b9fa82cc1ceb9ceb85fc.sql', 'q13__1ddcc8650e17b292bc7344902baffc90c5ae5761.sql', 'q13__935e2051bf80eeafe91aeb6eb719b6b64b9592c2.sql', 'q13__a091adce62743b65c04532e98e8ff3d7e546ea77.sql', 'q13__a3d03772d880754fc4e150d82908757477ae2186.sql', 'q13__add0df9dccb2790c14508e19c9e0deb79fad6ea2.sql', 'q13__d383cd5b4aee7d3f73508e2a1fe5f6d0f7dd42a2.sql', 'q13__d4707be2adfdbc842f42acb1fc16e3a43faf7474.sql', 'q2__q2-001.sql', 'q2__q2-012.sql', 'q2__q2-032.sql', 'q2__q2-035.sql', 'q2__q2-050.sql', 'q2__q2-081.sql', 'q2__q2-094.sql', 'q2__q2-098.sql', 'q7__q7-034.sql', 'q7__q7-036.sql', 'q7__q7-047.sql', 'q7__q7-077.sql', 'q7__q7-082.sql', 'q7__q7-085.sql', 'q7__q7-095.sql', 'q7__q7-099.sql']\n"
     ]
    },
    {
     "data": {
      "text/plain": [
       "\"\\nnp.random.seed(20)\\nbase_query2_train, base_query2_test = split_base_query(df)\\nsave_queries(base_query2_train, 'bao/queries/stack__base_query_split_2', test=False)\\nsave_queries(base_query2_test, 'bao/queries/stack__base_query_split_2', test=True)\\n\\nnp.random.seed(30)\\nbase_query3_train, base_query3_test = split_base_query(df)\\nsave_queries(base_query3_train, 'bao/queries/stack__base_query_split_3', test=False)\\nsave_queries(base_query3_test, 'bao/queries/stack__base_query_split_3', test=True)\\n\""
      ]
     },
     "execution_count": 35,
     "metadata": {},
     "output_type": "execute_result"
    }
   ],
   "source": [
    "# 16 query templates @ STACK -> 13-3 ~ 80-20 split\n",
    "def split_base_query(df, n_test_templates=3):\n",
    "    test_templates = np.random.choice(df['query_template'].unique(), size=n_test_templates, replace=False)\n",
    "    return df[~df['query_template'].isin(test_templates)], df[df['query_template'].isin(test_templates)]\n",
    "\n",
    "np.random.seed(10)\n",
    "base_query1_train, base_query1_test = split_base_query(df)\n",
    "save_queries(base_query1_train, 'bao/queries/stack__base_query_split_1', test=False)\n",
    "save_queries(base_query1_test, 'bao/queries/stack__base_query_split_1', test=True)\n",
    "\n",
    "\"\"\"\n",
    "np.random.seed(20)\n",
    "base_query2_train, base_query2_test = split_base_query(df)\n",
    "save_queries(base_query2_train, 'bao/queries/stack__base_query_split_2', test=False)\n",
    "save_queries(base_query2_test, 'bao/queries/stack__base_query_split_2', test=True)\n",
    "\n",
    "np.random.seed(30)\n",
    "base_query3_train, base_query3_test = split_base_query(df)\n",
    "save_queries(base_query3_train, 'bao/queries/stack__base_query_split_3', test=False)\n",
    "save_queries(base_query3_test, 'bao/queries/stack__base_query_split_3', test=True)\n",
    "\"\"\""
   ]
  },
  {
   "cell_type": "code",
   "execution_count": null,
   "metadata": {},
   "outputs": [],
   "source": []
  }
 ],
 "metadata": {
  "kernelspec": {
   "display_name": "env",
   "language": "python",
   "name": "python3"
  },
  "language_info": {
   "codemirror_mode": {
    "name": "ipython",
    "version": 3
   },
   "file_extension": ".py",
   "mimetype": "text/x-python",
   "name": "python",
   "nbconvert_exporter": "python",
   "pygments_lexer": "ipython3",
   "version": "3.9.12"
  }
 },
 "nbformat": 4,
 "nbformat_minor": 2
}
